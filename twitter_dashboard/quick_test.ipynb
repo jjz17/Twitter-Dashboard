{
 "cells": [
  {
   "cell_type": "code",
   "execution_count": 9,
   "metadata": {},
   "outputs": [],
   "source": [
    "from personal_twitter_data import TweetLoader\n",
    "from mongo_data import MongoStore\n",
    "import pymongo"
   ]
  },
  {
   "cell_type": "code",
   "execution_count": null,
   "metadata": {},
   "outputs": [],
   "source": [
    "loader = TweetLoader()\n",
    "loader.extract_tweets(count=10)"
   ]
  },
  {
   "cell_type": "code",
   "execution_count": null,
   "metadata": {},
   "outputs": [],
   "source": [
    "len(loader.get_loaded_tweets_as_json())"
   ]
  },
  {
   "cell_type": "code",
   "execution_count": null,
   "metadata": {},
   "outputs": [],
   "source": [
    "for tweet in loader.tweets:\n",
    "    print(tweet.author.name)\n",
    "    # print(tweet._json)"
   ]
  },
  {
   "cell_type": "code",
   "execution_count": 2,
   "metadata": {},
   "outputs": [],
   "source": [
    "store = MongoStore(\"twitter_dashboard_db\", \"home_timeline\")"
   ]
  },
  {
   "cell_type": "code",
   "execution_count": 18,
   "metadata": {},
   "outputs": [
    {
     "name": "stdout",
     "output_type": "stream",
     "text": [
      "1. Jason\n",
      "Duplicate tweet\n",
      "2. Brandon\n",
      "Duplicate tweet\n"
     ]
    }
   ],
   "source": [
    "tweets = [\n",
    "    {\"user\": \"Jason\", \"id\": 1, \"text\": \"Hello\"},\n",
    "    {\"user\": \"Brandon\", \"id\": 2, \"text\": \"World\"},\n",
    "]\n",
    "\n",
    "for i, tweet in enumerate(tweets):\n",
    "    try:\n",
    "        user = tweet[\"user\"]\n",
    "        print(f\"{i+1}. {user}\")\n",
    "        store.collection.insert_one(\n",
    "            tweet\n",
    "        )\n",
    "    except pymongo.errors.DuplicateKeyError:\n",
    "        print(\"Duplicate tweet\")"
   ]
  },
  {
   "cell_type": "code",
   "execution_count": 13,
   "metadata": {},
   "outputs": [
    {
     "data": {
      "text/plain": [
       "'tweet_id'"
      ]
     },
     "execution_count": 13,
     "metadata": {},
     "output_type": "execute_result"
    }
   ],
   "source": [
    "store.collection.create_index([(\"id\", pymongo.ASCENDING)], name=\"tweet_id\", unique=True, default_language=\"english\")"
   ]
  },
  {
   "cell_type": "code",
   "execution_count": null,
   "metadata": {},
   "outputs": [],
   "source": [
    "store.save_tweets_to_db(loader.tweets)"
   ]
  },
  {
   "cell_type": "code",
   "execution_count": 4,
   "metadata": {},
   "outputs": [
    {
     "data": {
      "text/plain": [
       "2"
      ]
     },
     "execution_count": 4,
     "metadata": {},
     "output_type": "execute_result"
    }
   ],
   "source": [
    "# data = store.load_data()\n",
    "data = store.load_flat_data()\n",
    "len(data)"
   ]
  },
  {
   "cell_type": "code",
   "execution_count": null,
   "metadata": {},
   "outputs": [],
   "source": [
    "data = store.load_data(latest=True)\n",
    "\n",
    "for user_data in data:\n",
    "    print(user_data[\"user\"])\n",
    "    print(len(user_data[\"tweets\"]))\n",
    "    for tweet in user_data[\"tweets\"]:\n",
    "        print(tweet[\"created_at\"])"
   ]
  },
  {
   "cell_type": "code",
   "execution_count": null,
   "metadata": {},
   "outputs": [],
   "source": [
    "from datetime import datetime\n",
    "\n",
    "dt = data[0][\"tweets\"][0][\"created_at\"]\n",
    "tokens = dt.split()\n",
    "date_info = tokens[1:4] + tokens[5:]\n",
    "date_info = \" \".join(date_info)\n",
    "date_info"
   ]
  },
  {
   "cell_type": "code",
   "execution_count": null,
   "metadata": {},
   "outputs": [],
   "source": [
    "datetime.strptime(date_info, \"%b %d %H:%M:%S %Y\")"
   ]
  },
  {
   "cell_type": "code",
   "execution_count": null,
   "metadata": {},
   "outputs": [],
   "source": [
    "d1 = datetime(1,1,1,1,1,1)\n",
    "d2 = datetime(1,1,1,1,1,2)\n",
    "l = [d2, d1]\n",
    "sorted(l)"
   ]
  }
 ],
 "metadata": {
  "kernelspec": {
   "display_name": "Python 3.8.12 ('.venv': poetry)",
   "language": "python",
   "name": "python3"
  },
  "language_info": {
   "codemirror_mode": {
    "name": "ipython",
    "version": 3
   },
   "file_extension": ".py",
   "mimetype": "text/x-python",
   "name": "python",
   "nbconvert_exporter": "python",
   "pygments_lexer": "ipython3",
   "version": "3.8.12"
  },
  "orig_nbformat": 4,
  "vscode": {
   "interpreter": {
    "hash": "2be0c5224b2fc5679877ab994835d32e5e61031a6913e0f9d088633754b14faa"
   }
  }
 },
 "nbformat": 4,
 "nbformat_minor": 2
}
