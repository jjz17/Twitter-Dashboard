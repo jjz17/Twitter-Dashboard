{
 "cells": [
  {
   "cell_type": "code",
   "execution_count": 1,
   "metadata": {},
   "outputs": [],
   "source": [
    "from personal_twitter_data import TweetLoader\n",
    "from mongo_data import MongoStore\n",
    "import pymongo"
   ]
  },
  {
   "cell_type": "code",
   "execution_count": 2,
   "metadata": {},
   "outputs": [],
   "source": [
    "loader = TweetLoader()\n",
    "loader.extract_tweets(count=10)"
   ]
  },
  {
   "cell_type": "code",
   "execution_count": 3,
   "metadata": {},
   "outputs": [
    {
     "data": {
      "text/plain": [
       "10"
      ]
     },
     "execution_count": 3,
     "metadata": {},
     "output_type": "execute_result"
    }
   ],
   "source": [
    "len(loader.get_loaded_tweets_as_json())"
   ]
  },
  {
   "cell_type": "code",
   "execution_count": 4,
   "metadata": {},
   "outputs": [
    {
     "name": "stdout",
     "output_type": "stream",
     "text": [
      "Bloomberg\n",
      "NASA\n",
      "Bloomberg\n",
      "Forbes\n",
      "Fox News\n",
      "Bloomberg\n",
      "Boston Celtics\n",
      "The Wall Street Journal\n",
      "Bloomberg\n",
      "Food Network\n"
     ]
    }
   ],
   "source": [
    "for tweet in loader.tweets:\n",
    "    print(tweet.author.name)\n",
    "    # print(tweet._json)"
   ]
  },
  {
   "cell_type": "code",
   "execution_count": 5,
   "metadata": {},
   "outputs": [],
   "source": [
    "store = MongoStore(\"twitter_dashboard_db\", \"home_timeline\")"
   ]
  },
  {
   "cell_type": "code",
   "execution_count": 10,
   "metadata": {},
   "outputs": [
    {
     "name": "stdout",
     "output_type": "stream",
     "text": [
      "1. Bloomberg\n",
      "Duplicate tweet\n",
      "2. NASA\n",
      "Duplicate tweet\n",
      "3. Bloomberg\n",
      "Duplicate tweet\n",
      "4. Forbes\n",
      "Duplicate tweet\n",
      "5. Fox News\n",
      "Duplicate tweet\n",
      "6. Bloomberg\n",
      "Duplicate tweet\n",
      "7. Boston Celtics\n",
      "Duplicate tweet\n",
      "8. The Wall Street Journal\n",
      "Duplicate tweet\n",
      "9. Bloomberg\n",
      "Duplicate tweet\n",
      "10. Food Network\n",
      "Duplicate tweet\n"
     ]
    }
   ],
   "source": [
    "for i, tweet in enumerate(loader.tweets):\n",
    "    try:\n",
    "        user = tweet.user\n",
    "        print(f\"{i+1}. {user.name}\")\n",
    "        store.collection.insert_one(\n",
    "            tweet._json\n",
    "        )\n",
    "    except pymongo.errors.DuplicateKeyError:\n",
    "        print(\"Duplicate tweet\")"
   ]
  },
  {
   "cell_type": "code",
   "execution_count": null,
   "metadata": {},
   "outputs": [],
   "source": [
    "store.collection.create_index([(\"id\", pymongo.ASCENDING)], name=\"tweet_id\", unique=True, default_language=\"english\")"
   ]
  },
  {
   "cell_type": "code",
   "execution_count": 11,
   "metadata": {},
   "outputs": [
    {
     "name": "stdout",
     "output_type": "stream",
     "text": [
      "1. User(_api=<tweepy.api.API object at 0x1120084f0>, _json={'id': 20710809, 'id_str': '20710809', 'name': 'Food Network', 'screen_name': 'FoodNetwork', 'location': '', 'description': 'Download @discoveryplus & stream #HolidayBakingChampionship, #HolidayWars, #ChristmasCookieChallenge, our new holiday movies & more of your fave shows:', 'url': 'https://t.co/8guyQlwMK0', 'entities': {'url': {'urls': [{'url': 'https://t.co/8guyQlwMK0', 'expanded_url': 'https://www.discoveryplus.com/?soc=food_twitter', 'display_url': 'discoveryplus.com/?soc=food_twit…', 'indices': [0, 23]}]}, 'description': {'urls': []}}, 'protected': False, 'followers_count': 5891990, 'friends_count': 22112, 'listed_count': 20198, 'created_at': 'Thu Feb 12 19:54:38 +0000 2009', 'favourites_count': 58784, 'utc_offset': None, 'time_zone': None, 'geo_enabled': False, 'verified': True, 'statuses_count': 97012, 'lang': None, 'contributors_enabled': False, 'is_translator': False, 'is_translation_enabled': False, 'profile_background_color': '000000', 'profile_background_image_url': 'http://abs.twimg.com/images/themes/theme12/bg.gif', 'profile_background_image_url_https': 'https://abs.twimg.com/images/themes/theme12/bg.gif', 'profile_background_tile': False, 'profile_image_url': 'http://pbs.twimg.com/profile_images/1591173334762487814/Yap7Wop6_normal.jpg', 'profile_image_url_https': 'https://pbs.twimg.com/profile_images/1591173334762487814/Yap7Wop6_normal.jpg', 'profile_banner_url': 'https://pbs.twimg.com/profile_banners/20710809/1668200107', 'profile_link_color': 'E81C4F', 'profile_sidebar_border_color': 'FFFFFF', 'profile_sidebar_fill_color': 'FFFBE5', 'profile_text_color': '3D3D3D', 'profile_use_background_image': False, 'has_extended_profile': False, 'default_profile': False, 'default_profile_image': False, 'following': True, 'follow_request_sent': False, 'notifications': False, 'translator_type': 'none', 'withheld_in_countries': []}, id=20710809, id_str='20710809', name='Food Network', screen_name='FoodNetwork', location='', description='Download @discoveryplus & stream #HolidayBakingChampionship, #HolidayWars, #ChristmasCookieChallenge, our new holiday movies & more of your fave shows:', url='https://t.co/8guyQlwMK0', entities={'url': {'urls': [{'url': 'https://t.co/8guyQlwMK0', 'expanded_url': 'https://www.discoveryplus.com/?soc=food_twitter', 'display_url': 'discoveryplus.com/?soc=food_twit…', 'indices': [0, 23]}]}, 'description': {'urls': []}}, protected=False, followers_count=5891990, friends_count=22112, listed_count=20198, created_at=datetime.datetime(2009, 2, 12, 19, 54, 38, tzinfo=datetime.timezone.utc), favourites_count=58784, utc_offset=None, time_zone=None, geo_enabled=False, verified=True, statuses_count=97012, lang=None, contributors_enabled=False, is_translator=False, is_translation_enabled=False, profile_background_color='000000', profile_background_image_url='http://abs.twimg.com/images/themes/theme12/bg.gif', profile_background_image_url_https='https://abs.twimg.com/images/themes/theme12/bg.gif', profile_background_tile=False, profile_image_url='http://pbs.twimg.com/profile_images/1591173334762487814/Yap7Wop6_normal.jpg', profile_image_url_https='https://pbs.twimg.com/profile_images/1591173334762487814/Yap7Wop6_normal.jpg', profile_banner_url='https://pbs.twimg.com/profile_banners/20710809/1668200107', profile_link_color='E81C4F', profile_sidebar_border_color='FFFFFF', profile_sidebar_fill_color='FFFBE5', profile_text_color='3D3D3D', profile_use_background_image=False, has_extended_profile=False, default_profile=False, default_profile_image=False, following=True, follow_request_sent=False, notifications=False, translator_type='none', withheld_in_countries=[])\n",
      "Duplicate tweet id: 1606684878119919617\n",
      "2. User(_api=<tweepy.api.API object at 0x1120084f0>, _json={'id': 34713362, 'id_str': '34713362', 'name': 'Bloomberg', 'screen_name': 'business', 'location': 'New York and the World', 'description': 'The first word in business news.\\nOur newsletters: https://t.co/nWaCxHSKuU\\nOur podcasts: https://t.co/096e9xMbPz\\nThe Big Take podcast: https://t.co/UqskwXtp5Z', 'url': 'https://t.co/kCDIdvrKHF', 'entities': {'url': {'urls': [{'url': 'https://t.co/kCDIdvrKHF', 'expanded_url': 'https://www.bloomberg.com', 'display_url': 'bloomberg.com', 'indices': [0, 23]}]}, 'description': {'urls': [{'url': 'https://t.co/nWaCxHSKuU', 'expanded_url': 'http://bloom.bg/newsletters', 'display_url': 'bloom.bg/newsletters', 'indices': [50, 73]}, {'url': 'https://t.co/096e9xMbPz', 'expanded_url': 'http://bloom.bg/podcasts', 'display_url': 'bloom.bg/podcasts', 'indices': [88, 111]}, {'url': 'https://t.co/UqskwXtp5Z', 'expanded_url': 'http://trib.al/jtoXfuT', 'display_url': 'trib.al/jtoXfuT', 'indices': [134, 157]}]}}, 'protected': False, 'followers_count': 9051939, 'friends_count': 1453, 'listed_count': 68963, 'created_at': 'Thu Apr 23 20:05:17 +0000 2009', 'favourites_count': 3721, 'utc_offset': None, 'time_zone': None, 'geo_enabled': True, 'verified': True, 'statuses_count': 880145, 'lang': None, 'contributors_enabled': False, 'is_translator': False, 'is_translation_enabled': True, 'profile_background_color': '101112', 'profile_background_image_url': 'http://abs.twimg.com/images/themes/theme9/bg.gif', 'profile_background_image_url_https': 'https://abs.twimg.com/images/themes/theme9/bg.gif', 'profile_background_tile': True, 'profile_image_url': 'http://pbs.twimg.com/profile_images/991818020233404416/alrBF_dr_normal.jpg', 'profile_image_url_https': 'https://pbs.twimg.com/profile_images/991818020233404416/alrBF_dr_normal.jpg', 'profile_banner_url': 'https://pbs.twimg.com/profile_banners/34713362/1668696203', 'profile_link_color': '3B94D9', 'profile_sidebar_border_color': 'DADADA', 'profile_sidebar_fill_color': 'EEEEEE', 'profile_text_color': '666666', 'profile_use_background_image': True, 'has_extended_profile': False, 'default_profile': False, 'default_profile_image': False, 'following': True, 'follow_request_sent': False, 'notifications': False, 'translator_type': 'none', 'withheld_in_countries': []}, id=34713362, id_str='34713362', name='Bloomberg', screen_name='business', location='New York and the World', description='The first word in business news.\\nOur newsletters: https://t.co/nWaCxHSKuU\\nOur podcasts: https://t.co/096e9xMbPz\\nThe Big Take podcast: https://t.co/UqskwXtp5Z', url='https://t.co/kCDIdvrKHF', entities={'url': {'urls': [{'url': 'https://t.co/kCDIdvrKHF', 'expanded_url': 'https://www.bloomberg.com', 'display_url': 'bloomberg.com', 'indices': [0, 23]}]}, 'description': {'urls': [{'url': 'https://t.co/nWaCxHSKuU', 'expanded_url': 'http://bloom.bg/newsletters', 'display_url': 'bloom.bg/newsletters', 'indices': [50, 73]}, {'url': 'https://t.co/096e9xMbPz', 'expanded_url': 'http://bloom.bg/podcasts', 'display_url': 'bloom.bg/podcasts', 'indices': [88, 111]}, {'url': 'https://t.co/UqskwXtp5Z', 'expanded_url': 'http://trib.al/jtoXfuT', 'display_url': 'trib.al/jtoXfuT', 'indices': [134, 157]}]}}, protected=False, followers_count=9051939, friends_count=1453, listed_count=68963, created_at=datetime.datetime(2009, 4, 23, 20, 5, 17, tzinfo=datetime.timezone.utc), favourites_count=3721, utc_offset=None, time_zone=None, geo_enabled=True, verified=True, statuses_count=880145, lang=None, contributors_enabled=False, is_translator=False, is_translation_enabled=True, profile_background_color='101112', profile_background_image_url='http://abs.twimg.com/images/themes/theme9/bg.gif', profile_background_image_url_https='https://abs.twimg.com/images/themes/theme9/bg.gif', profile_background_tile=True, profile_image_url='http://pbs.twimg.com/profile_images/991818020233404416/alrBF_dr_normal.jpg', profile_image_url_https='https://pbs.twimg.com/profile_images/991818020233404416/alrBF_dr_normal.jpg', profile_banner_url='https://pbs.twimg.com/profile_banners/34713362/1668696203', profile_link_color='3B94D9', profile_sidebar_border_color='DADADA', profile_sidebar_fill_color='EEEEEE', profile_text_color='666666', profile_use_background_image=True, has_extended_profile=False, default_profile=False, default_profile_image=False, following=True, follow_request_sent=False, notifications=False, translator_type='none', withheld_in_countries=[])\n",
      "Duplicate tweet id: 1606684898684813312\n",
      "3. User(_api=<tweepy.api.API object at 0x1120084f0>, _json={'id': 3108351, 'id_str': '3108351', 'name': 'The Wall Street Journal', 'screen_name': 'WSJ', 'location': 'New York, NY', 'description': 'Sign up for our newsletters and alerts: https://t.co/QevH0DLisA | Got a tip? https://t.co/iXIigdOLPr | For WSJ customer support: https://t.co/DZgH9n4vAI', 'url': 'https://t.co/9rMrYLEXTt', 'entities': {'url': {'urls': [{'url': 'https://t.co/9rMrYLEXTt', 'expanded_url': 'http://wsj.com', 'display_url': 'wsj.com', 'indices': [0, 23]}]}, 'description': {'urls': [{'url': 'https://t.co/QevH0DLisA', 'expanded_url': 'http://wsj.com/newsletters', 'display_url': 'wsj.com/newsletters', 'indices': [40, 63]}, {'url': 'https://t.co/iXIigdOLPr', 'expanded_url': 'http://wsj.com/tips', 'display_url': 'wsj.com/tips', 'indices': [77, 100]}, {'url': 'https://t.co/DZgH9n4vAI', 'expanded_url': 'http://customercenter.wsj.com', 'display_url': 'customercenter.wsj.com', 'indices': [129, 152]}]}}, 'protected': False, 'followers_count': 20396705, 'friends_count': 1080, 'listed_count': 126994, 'created_at': 'Sun Apr 01 06:22:13 +0000 2007', 'favourites_count': 1143, 'utc_offset': None, 'time_zone': None, 'geo_enabled': True, 'verified': True, 'statuses_count': 393056, 'lang': None, 'contributors_enabled': False, 'is_translator': False, 'is_translation_enabled': True, 'profile_background_color': 'EDF2F5', 'profile_background_image_url': 'http://abs.twimg.com/images/themes/theme14/bg.gif', 'profile_background_image_url_https': 'https://abs.twimg.com/images/themes/theme14/bg.gif', 'profile_background_tile': False, 'profile_image_url': 'http://pbs.twimg.com/profile_images/971415515754266624/zCX0q9d5_normal.jpg', 'profile_image_url_https': 'https://pbs.twimg.com/profile_images/971415515754266624/zCX0q9d5_normal.jpg', 'profile_banner_url': 'https://pbs.twimg.com/profile_banners/3108351/1667493390', 'profile_link_color': '1164B8', 'profile_sidebar_border_color': 'FFFFFF', 'profile_sidebar_fill_color': 'EFEFEF', 'profile_text_color': '333333', 'profile_use_background_image': False, 'has_extended_profile': False, 'default_profile': False, 'default_profile_image': False, 'following': True, 'follow_request_sent': False, 'notifications': False, 'translator_type': 'regular', 'withheld_in_countries': []}, id=3108351, id_str='3108351', name='The Wall Street Journal', screen_name='WSJ', location='New York, NY', description='Sign up for our newsletters and alerts: https://t.co/QevH0DLisA | Got a tip? https://t.co/iXIigdOLPr | For WSJ customer support: https://t.co/DZgH9n4vAI', url='https://t.co/9rMrYLEXTt', entities={'url': {'urls': [{'url': 'https://t.co/9rMrYLEXTt', 'expanded_url': 'http://wsj.com', 'display_url': 'wsj.com', 'indices': [0, 23]}]}, 'description': {'urls': [{'url': 'https://t.co/QevH0DLisA', 'expanded_url': 'http://wsj.com/newsletters', 'display_url': 'wsj.com/newsletters', 'indices': [40, 63]}, {'url': 'https://t.co/iXIigdOLPr', 'expanded_url': 'http://wsj.com/tips', 'display_url': 'wsj.com/tips', 'indices': [77, 100]}, {'url': 'https://t.co/DZgH9n4vAI', 'expanded_url': 'http://customercenter.wsj.com', 'display_url': 'customercenter.wsj.com', 'indices': [129, 152]}]}}, protected=False, followers_count=20396705, friends_count=1080, listed_count=126994, created_at=datetime.datetime(2007, 4, 1, 6, 22, 13, tzinfo=datetime.timezone.utc), favourites_count=1143, utc_offset=None, time_zone=None, geo_enabled=True, verified=True, statuses_count=393056, lang=None, contributors_enabled=False, is_translator=False, is_translation_enabled=True, profile_background_color='EDF2F5', profile_background_image_url='http://abs.twimg.com/images/themes/theme14/bg.gif', profile_background_image_url_https='https://abs.twimg.com/images/themes/theme14/bg.gif', profile_background_tile=False, profile_image_url='http://pbs.twimg.com/profile_images/971415515754266624/zCX0q9d5_normal.jpg', profile_image_url_https='https://pbs.twimg.com/profile_images/971415515754266624/zCX0q9d5_normal.jpg', profile_banner_url='https://pbs.twimg.com/profile_banners/3108351/1667493390', profile_link_color='1164B8', profile_sidebar_border_color='FFFFFF', profile_sidebar_fill_color='EFEFEF', profile_text_color='333333', profile_use_background_image=False, has_extended_profile=False, default_profile=False, default_profile_image=False, following=True, follow_request_sent=False, notifications=False, translator_type='regular', withheld_in_countries=[])\n",
      "Duplicate tweet id: 1606684909246070785\n",
      "4. User(_api=<tweepy.api.API object at 0x1120084f0>, _json={'id': 18139461, 'id_str': '18139461', 'name': 'Boston Celtics', 'screen_name': 'celtics', 'location': 'Boston, MA', 'description': '', 'url': None, 'entities': {'description': {'urls': []}}, 'protected': False, 'followers_count': 4055890, 'friends_count': 234, 'listed_count': 13210, 'created_at': 'Mon Dec 15 16:19:50 +0000 2008', 'favourites_count': 2579, 'utc_offset': None, 'time_zone': None, 'geo_enabled': True, 'verified': True, 'statuses_count': 52504, 'lang': None, 'contributors_enabled': False, 'is_translator': False, 'is_translation_enabled': False, 'profile_background_color': '000000', 'profile_background_image_url': 'http://abs.twimg.com/images/themes/theme1/bg.png', 'profile_background_image_url_https': 'https://abs.twimg.com/images/themes/theme1/bg.png', 'profile_background_tile': False, 'profile_image_url': 'http://pbs.twimg.com/profile_images/1590352013967200257/aclYOG_w_normal.jpg', 'profile_image_url_https': 'https://pbs.twimg.com/profile_images/1590352013967200257/aclYOG_w_normal.jpg', 'profile_banner_url': 'https://pbs.twimg.com/profile_banners/18139461/1659291918', 'profile_link_color': '00611B', 'profile_sidebar_border_color': '000000', 'profile_sidebar_fill_color': 'FFFFFF', 'profile_text_color': '333333', 'profile_use_background_image': True, 'has_extended_profile': False, 'default_profile': False, 'default_profile_image': False, 'following': True, 'follow_request_sent': False, 'notifications': False, 'translator_type': 'none', 'withheld_in_countries': []}, id=18139461, id_str='18139461', name='Boston Celtics', screen_name='celtics', location='Boston, MA', description='', url=None, entities={'description': {'urls': []}}, protected=False, followers_count=4055890, friends_count=234, listed_count=13210, created_at=datetime.datetime(2008, 12, 15, 16, 19, 50, tzinfo=datetime.timezone.utc), favourites_count=2579, utc_offset=None, time_zone=None, geo_enabled=True, verified=True, statuses_count=52504, lang=None, contributors_enabled=False, is_translator=False, is_translation_enabled=False, profile_background_color='000000', profile_background_image_url='http://abs.twimg.com/images/themes/theme1/bg.png', profile_background_image_url_https='https://abs.twimg.com/images/themes/theme1/bg.png', profile_background_tile=False, profile_image_url='http://pbs.twimg.com/profile_images/1590352013967200257/aclYOG_w_normal.jpg', profile_image_url_https='https://pbs.twimg.com/profile_images/1590352013967200257/aclYOG_w_normal.jpg', profile_banner_url='https://pbs.twimg.com/profile_banners/18139461/1659291918', profile_link_color='00611B', profile_sidebar_border_color='000000', profile_sidebar_fill_color='FFFFFF', profile_text_color='333333', profile_use_background_image=True, has_extended_profile=False, default_profile=False, default_profile_image=False, following=True, follow_request_sent=False, notifications=False, translator_type='none', withheld_in_countries=[])\n",
      "Duplicate tweet id: 1606684956666871810\n",
      "5. User(_api=<tweepy.api.API object at 0x1120084f0>, _json={'id': 34713362, 'id_str': '34713362', 'name': 'Bloomberg', 'screen_name': 'business', 'location': 'New York and the World', 'description': 'The first word in business news.\\nOur newsletters: https://t.co/nWaCxHSKuU\\nOur podcasts: https://t.co/096e9xMbPz\\nThe Big Take podcast: https://t.co/UqskwXtp5Z', 'url': 'https://t.co/kCDIdvrKHF', 'entities': {'url': {'urls': [{'url': 'https://t.co/kCDIdvrKHF', 'expanded_url': 'https://www.bloomberg.com', 'display_url': 'bloomberg.com', 'indices': [0, 23]}]}, 'description': {'urls': [{'url': 'https://t.co/nWaCxHSKuU', 'expanded_url': 'http://bloom.bg/newsletters', 'display_url': 'bloom.bg/newsletters', 'indices': [50, 73]}, {'url': 'https://t.co/096e9xMbPz', 'expanded_url': 'http://bloom.bg/podcasts', 'display_url': 'bloom.bg/podcasts', 'indices': [88, 111]}, {'url': 'https://t.co/UqskwXtp5Z', 'expanded_url': 'http://trib.al/jtoXfuT', 'display_url': 'trib.al/jtoXfuT', 'indices': [134, 157]}]}}, 'protected': False, 'followers_count': 9051939, 'friends_count': 1453, 'listed_count': 68963, 'created_at': 'Thu Apr 23 20:05:17 +0000 2009', 'favourites_count': 3721, 'utc_offset': None, 'time_zone': None, 'geo_enabled': True, 'verified': True, 'statuses_count': 880145, 'lang': None, 'contributors_enabled': False, 'is_translator': False, 'is_translation_enabled': True, 'profile_background_color': '101112', 'profile_background_image_url': 'http://abs.twimg.com/images/themes/theme9/bg.gif', 'profile_background_image_url_https': 'https://abs.twimg.com/images/themes/theme9/bg.gif', 'profile_background_tile': True, 'profile_image_url': 'http://pbs.twimg.com/profile_images/991818020233404416/alrBF_dr_normal.jpg', 'profile_image_url_https': 'https://pbs.twimg.com/profile_images/991818020233404416/alrBF_dr_normal.jpg', 'profile_banner_url': 'https://pbs.twimg.com/profile_banners/34713362/1668696203', 'profile_link_color': '3B94D9', 'profile_sidebar_border_color': 'DADADA', 'profile_sidebar_fill_color': 'EEEEEE', 'profile_text_color': '666666', 'profile_use_background_image': True, 'has_extended_profile': False, 'default_profile': False, 'default_profile_image': False, 'following': True, 'follow_request_sent': False, 'notifications': False, 'translator_type': 'none', 'withheld_in_countries': []}, id=34713362, id_str='34713362', name='Bloomberg', screen_name='business', location='New York and the World', description='The first word in business news.\\nOur newsletters: https://t.co/nWaCxHSKuU\\nOur podcasts: https://t.co/096e9xMbPz\\nThe Big Take podcast: https://t.co/UqskwXtp5Z', url='https://t.co/kCDIdvrKHF', entities={'url': {'urls': [{'url': 'https://t.co/kCDIdvrKHF', 'expanded_url': 'https://www.bloomberg.com', 'display_url': 'bloomberg.com', 'indices': [0, 23]}]}, 'description': {'urls': [{'url': 'https://t.co/nWaCxHSKuU', 'expanded_url': 'http://bloom.bg/newsletters', 'display_url': 'bloom.bg/newsletters', 'indices': [50, 73]}, {'url': 'https://t.co/096e9xMbPz', 'expanded_url': 'http://bloom.bg/podcasts', 'display_url': 'bloom.bg/podcasts', 'indices': [88, 111]}, {'url': 'https://t.co/UqskwXtp5Z', 'expanded_url': 'http://trib.al/jtoXfuT', 'display_url': 'trib.al/jtoXfuT', 'indices': [134, 157]}]}}, protected=False, followers_count=9051939, friends_count=1453, listed_count=68963, created_at=datetime.datetime(2009, 4, 23, 20, 5, 17, tzinfo=datetime.timezone.utc), favourites_count=3721, utc_offset=None, time_zone=None, geo_enabled=True, verified=True, statuses_count=880145, lang=None, contributors_enabled=False, is_translator=False, is_translation_enabled=True, profile_background_color='101112', profile_background_image_url='http://abs.twimg.com/images/themes/theme9/bg.gif', profile_background_image_url_https='https://abs.twimg.com/images/themes/theme9/bg.gif', profile_background_tile=True, profile_image_url='http://pbs.twimg.com/profile_images/991818020233404416/alrBF_dr_normal.jpg', profile_image_url_https='https://pbs.twimg.com/profile_images/991818020233404416/alrBF_dr_normal.jpg', profile_banner_url='https://pbs.twimg.com/profile_banners/34713362/1668696203', profile_link_color='3B94D9', profile_sidebar_border_color='DADADA', profile_sidebar_fill_color='EEEEEE', profile_text_color='666666', profile_use_background_image=True, has_extended_profile=False, default_profile=False, default_profile_image=False, following=True, follow_request_sent=False, notifications=False, translator_type='none', withheld_in_countries=[])\n",
      "Duplicate tweet id: 1606685134807343112\n",
      "6. User(_api=<tweepy.api.API object at 0x1120084f0>, _json={'id': 91478624, 'id_str': '91478624', 'name': 'Forbes', 'screen_name': 'Forbes', 'location': 'New York, NY', 'description': 'Official account of Forbes, the world’s leading voice for entrepreneurial success and free enterprise, and home to breaking news, business, money and more.', 'url': 'https://t.co/6qjZ8PCpvM', 'entities': {'url': {'urls': [{'url': 'https://t.co/6qjZ8PCpvM', 'expanded_url': 'http://forbes.com', 'display_url': 'forbes.com', 'indices': [0, 23]}]}, 'description': {'urls': []}}, 'protected': False, 'followers_count': 18611313, 'friends_count': 5043, 'listed_count': 63255, 'created_at': 'Sat Nov 21 02:09:57 +0000 2009', 'favourites_count': 10157, 'utc_offset': None, 'time_zone': None, 'geo_enabled': True, 'verified': True, 'statuses_count': 442259, 'lang': None, 'contributors_enabled': False, 'is_translator': False, 'is_translation_enabled': True, 'profile_background_color': '072250', 'profile_background_image_url': 'http://abs.twimg.com/images/themes/theme1/bg.png', 'profile_background_image_url_https': 'https://abs.twimg.com/images/themes/theme1/bg.png', 'profile_background_tile': False, 'profile_image_url': 'http://pbs.twimg.com/profile_images/1577646609923543041/NcCeduIc_normal.jpg', 'profile_image_url_https': 'https://pbs.twimg.com/profile_images/1577646609923543041/NcCeduIc_normal.jpg', 'profile_banner_url': 'https://pbs.twimg.com/profile_banners/91478624/1664976352', 'profile_link_color': '072250', 'profile_sidebar_border_color': 'CCCCCC', 'profile_sidebar_fill_color': 'F7F7F7', 'profile_text_color': '000000', 'profile_use_background_image': True, 'has_extended_profile': False, 'default_profile': False, 'default_profile_image': False, 'following': True, 'follow_request_sent': False, 'notifications': False, 'translator_type': 'regular', 'withheld_in_countries': []}, id=91478624, id_str='91478624', name='Forbes', screen_name='Forbes', location='New York, NY', description='Official account of Forbes, the world’s leading voice for entrepreneurial success and free enterprise, and home to breaking news, business, money and more.', url='https://t.co/6qjZ8PCpvM', entities={'url': {'urls': [{'url': 'https://t.co/6qjZ8PCpvM', 'expanded_url': 'http://forbes.com', 'display_url': 'forbes.com', 'indices': [0, 23]}]}, 'description': {'urls': []}}, protected=False, followers_count=18611313, friends_count=5043, listed_count=63255, created_at=datetime.datetime(2009, 11, 21, 2, 9, 57, tzinfo=datetime.timezone.utc), favourites_count=10157, utc_offset=None, time_zone=None, geo_enabled=True, verified=True, statuses_count=442259, lang=None, contributors_enabled=False, is_translator=False, is_translation_enabled=True, profile_background_color='072250', profile_background_image_url='http://abs.twimg.com/images/themes/theme1/bg.png', profile_background_image_url_https='https://abs.twimg.com/images/themes/theme1/bg.png', profile_background_tile=False, profile_image_url='http://pbs.twimg.com/profile_images/1577646609923543041/NcCeduIc_normal.jpg', profile_image_url_https='https://pbs.twimg.com/profile_images/1577646609923543041/NcCeduIc_normal.jpg', profile_banner_url='https://pbs.twimg.com/profile_banners/91478624/1664976352', profile_link_color='072250', profile_sidebar_border_color='CCCCCC', profile_sidebar_fill_color='F7F7F7', profile_text_color='000000', profile_use_background_image=True, has_extended_profile=False, default_profile=False, default_profile_image=False, following=True, follow_request_sent=False, notifications=False, translator_type='regular', withheld_in_countries=[])\n",
      "Duplicate tweet id: 1606686167574929411\n",
      "7. User(_api=<tweepy.api.API object at 0x1120084f0>, _json={'id': 1367531, 'id_str': '1367531', 'name': 'Fox News', 'screen_name': 'FoxNews', 'location': 'U.S.A.', 'description': \"Follow America's #1 cable news network, delivering you breaking news, insightful analysis, and must-see videos. https://t.co/sXA1eVB5Gv\", 'url': 'https://t.co/s4jEId5Aef', 'entities': {'url': {'urls': [{'url': 'https://t.co/s4jEId5Aef', 'expanded_url': 'http://www.foxnews.com', 'display_url': 'foxnews.com', 'indices': [0, 23]}]}, 'description': {'urls': [{'url': 'https://t.co/sXA1eVB5Gv', 'expanded_url': 'http://foxnews.com/contact', 'display_url': 'foxnews.com/contact', 'indices': [112, 135]}]}}, 'protected': False, 'followers_count': 23464328, 'friends_count': 262, 'listed_count': 73694, 'created_at': 'Sat Mar 17 19:01:26 +0000 2007', 'favourites_count': 4, 'utc_offset': None, 'time_zone': None, 'geo_enabled': True, 'verified': True, 'statuses_count': 516856, 'lang': None, 'contributors_enabled': False, 'is_translator': False, 'is_translation_enabled': True, 'profile_background_color': '0E2331', 'profile_background_image_url': 'http://abs.twimg.com/images/themes/theme1/bg.png', 'profile_background_image_url_https': 'https://abs.twimg.com/images/themes/theme1/bg.png', 'profile_background_tile': False, 'profile_image_url': 'http://pbs.twimg.com/profile_images/1591278197844414464/O6Fp0hFB_normal.jpg', 'profile_image_url_https': 'https://pbs.twimg.com/profile_images/1591278197844414464/O6Fp0hFB_normal.jpg', 'profile_banner_url': 'https://pbs.twimg.com/profile_banners/1367531/1492649996', 'profile_link_color': '183A52', 'profile_sidebar_border_color': 'FFFFFF', 'profile_sidebar_fill_color': 'F4F4F4', 'profile_text_color': '000000', 'profile_use_background_image': True, 'has_extended_profile': False, 'default_profile': False, 'default_profile_image': False, 'following': True, 'follow_request_sent': False, 'notifications': False, 'translator_type': 'regular', 'withheld_in_countries': []}, id=1367531, id_str='1367531', name='Fox News', screen_name='FoxNews', location='U.S.A.', description=\"Follow America's #1 cable news network, delivering you breaking news, insightful analysis, and must-see videos. https://t.co/sXA1eVB5Gv\", url='https://t.co/s4jEId5Aef', entities={'url': {'urls': [{'url': 'https://t.co/s4jEId5Aef', 'expanded_url': 'http://www.foxnews.com', 'display_url': 'foxnews.com', 'indices': [0, 23]}]}, 'description': {'urls': [{'url': 'https://t.co/sXA1eVB5Gv', 'expanded_url': 'http://foxnews.com/contact', 'display_url': 'foxnews.com/contact', 'indices': [112, 135]}]}}, protected=False, followers_count=23464328, friends_count=262, listed_count=73694, created_at=datetime.datetime(2007, 3, 17, 19, 1, 26, tzinfo=datetime.timezone.utc), favourites_count=4, utc_offset=None, time_zone=None, geo_enabled=True, verified=True, statuses_count=516856, lang=None, contributors_enabled=False, is_translator=False, is_translation_enabled=True, profile_background_color='0E2331', profile_background_image_url='http://abs.twimg.com/images/themes/theme1/bg.png', profile_background_image_url_https='https://abs.twimg.com/images/themes/theme1/bg.png', profile_background_tile=False, profile_image_url='http://pbs.twimg.com/profile_images/1591278197844414464/O6Fp0hFB_normal.jpg', profile_image_url_https='https://pbs.twimg.com/profile_images/1591278197844414464/O6Fp0hFB_normal.jpg', profile_banner_url='https://pbs.twimg.com/profile_banners/1367531/1492649996', profile_link_color='183A52', profile_sidebar_border_color='FFFFFF', profile_sidebar_fill_color='F4F4F4', profile_text_color='000000', profile_use_background_image=True, has_extended_profile=False, default_profile=False, default_profile_image=False, following=True, follow_request_sent=False, notifications=False, translator_type='regular', withheld_in_countries=[])\n",
      "Duplicate tweet id: 1606686166622896133\n",
      "8. User(_api=<tweepy.api.API object at 0x1120084f0>, _json={'id': 34713362, 'id_str': '34713362', 'name': 'Bloomberg', 'screen_name': 'business', 'location': 'New York and the World', 'description': 'The first word in business news.\\nOur newsletters: https://t.co/nWaCxHSKuU\\nOur podcasts: https://t.co/096e9xMbPz\\nThe Big Take podcast: https://t.co/UqskwXtp5Z', 'url': 'https://t.co/kCDIdvrKHF', 'entities': {'url': {'urls': [{'url': 'https://t.co/kCDIdvrKHF', 'expanded_url': 'https://www.bloomberg.com', 'display_url': 'bloomberg.com', 'indices': [0, 23]}]}, 'description': {'urls': [{'url': 'https://t.co/nWaCxHSKuU', 'expanded_url': 'http://bloom.bg/newsletters', 'display_url': 'bloom.bg/newsletters', 'indices': [50, 73]}, {'url': 'https://t.co/096e9xMbPz', 'expanded_url': 'http://bloom.bg/podcasts', 'display_url': 'bloom.bg/podcasts', 'indices': [88, 111]}, {'url': 'https://t.co/UqskwXtp5Z', 'expanded_url': 'http://trib.al/jtoXfuT', 'display_url': 'trib.al/jtoXfuT', 'indices': [134, 157]}]}}, 'protected': False, 'followers_count': 9051939, 'friends_count': 1453, 'listed_count': 68963, 'created_at': 'Thu Apr 23 20:05:17 +0000 2009', 'favourites_count': 3721, 'utc_offset': None, 'time_zone': None, 'geo_enabled': True, 'verified': True, 'statuses_count': 880145, 'lang': None, 'contributors_enabled': False, 'is_translator': False, 'is_translation_enabled': True, 'profile_background_color': '101112', 'profile_background_image_url': 'http://abs.twimg.com/images/themes/theme9/bg.gif', 'profile_background_image_url_https': 'https://abs.twimg.com/images/themes/theme9/bg.gif', 'profile_background_tile': True, 'profile_image_url': 'http://pbs.twimg.com/profile_images/991818020233404416/alrBF_dr_normal.jpg', 'profile_image_url_https': 'https://pbs.twimg.com/profile_images/991818020233404416/alrBF_dr_normal.jpg', 'profile_banner_url': 'https://pbs.twimg.com/profile_banners/34713362/1668696203', 'profile_link_color': '3B94D9', 'profile_sidebar_border_color': 'DADADA', 'profile_sidebar_fill_color': 'EEEEEE', 'profile_text_color': '666666', 'profile_use_background_image': True, 'has_extended_profile': False, 'default_profile': False, 'default_profile_image': False, 'following': True, 'follow_request_sent': False, 'notifications': False, 'translator_type': 'none', 'withheld_in_countries': []}, id=34713362, id_str='34713362', name='Bloomberg', screen_name='business', location='New York and the World', description='The first word in business news.\\nOur newsletters: https://t.co/nWaCxHSKuU\\nOur podcasts: https://t.co/096e9xMbPz\\nThe Big Take podcast: https://t.co/UqskwXtp5Z', url='https://t.co/kCDIdvrKHF', entities={'url': {'urls': [{'url': 'https://t.co/kCDIdvrKHF', 'expanded_url': 'https://www.bloomberg.com', 'display_url': 'bloomberg.com', 'indices': [0, 23]}]}, 'description': {'urls': [{'url': 'https://t.co/nWaCxHSKuU', 'expanded_url': 'http://bloom.bg/newsletters', 'display_url': 'bloom.bg/newsletters', 'indices': [50, 73]}, {'url': 'https://t.co/096e9xMbPz', 'expanded_url': 'http://bloom.bg/podcasts', 'display_url': 'bloom.bg/podcasts', 'indices': [88, 111]}, {'url': 'https://t.co/UqskwXtp5Z', 'expanded_url': 'http://trib.al/jtoXfuT', 'display_url': 'trib.al/jtoXfuT', 'indices': [134, 157]}]}}, protected=False, followers_count=9051939, friends_count=1453, listed_count=68963, created_at=datetime.datetime(2009, 4, 23, 20, 5, 17, tzinfo=datetime.timezone.utc), favourites_count=3721, utc_offset=None, time_zone=None, geo_enabled=True, verified=True, statuses_count=880145, lang=None, contributors_enabled=False, is_translator=False, is_translation_enabled=True, profile_background_color='101112', profile_background_image_url='http://abs.twimg.com/images/themes/theme9/bg.gif', profile_background_image_url_https='https://abs.twimg.com/images/themes/theme9/bg.gif', profile_background_tile=True, profile_image_url='http://pbs.twimg.com/profile_images/991818020233404416/alrBF_dr_normal.jpg', profile_image_url_https='https://pbs.twimg.com/profile_images/991818020233404416/alrBF_dr_normal.jpg', profile_banner_url='https://pbs.twimg.com/profile_banners/34713362/1668696203', profile_link_color='3B94D9', profile_sidebar_border_color='DADADA', profile_sidebar_fill_color='EEEEEE', profile_text_color='666666', profile_use_background_image=True, has_extended_profile=False, default_profile=False, default_profile_image=False, following=True, follow_request_sent=False, notifications=False, translator_type='none', withheld_in_countries=[])\n",
      "Duplicate tweet id: 1606686398513291264\n",
      "9. User(_api=<tweepy.api.API object at 0x1120084f0>, _json={'id': 11348282, 'id_str': '11348282', 'name': 'NASA', 'screen_name': 'NASA', 'location': 'Pale Blue Dot', 'description': \"There's space for everybody. ✨\", 'url': 'https://t.co/9NkQJKAnuU', 'entities': {'url': {'urls': [{'url': 'https://t.co/9NkQJKAnuU', 'expanded_url': 'http://www.nasa.gov/', 'display_url': 'nasa.gov', 'indices': [0, 23]}]}, 'description': {'urls': []}}, 'protected': False, 'followers_count': 68707939, 'friends_count': 185, 'listed_count': 98995, 'created_at': 'Wed Dec 19 20:20:32 +0000 2007', 'favourites_count': 14657, 'utc_offset': None, 'time_zone': None, 'geo_enabled': False, 'verified': True, 'statuses_count': 69303, 'lang': None, 'contributors_enabled': False, 'is_translator': False, 'is_translation_enabled': False, 'profile_background_color': '000000', 'profile_background_image_url': 'http://abs.twimg.com/images/themes/theme1/bg.png', 'profile_background_image_url_https': 'https://abs.twimg.com/images/themes/theme1/bg.png', 'profile_background_tile': False, 'profile_image_url': 'http://pbs.twimg.com/profile_images/1321163587679784960/0ZxKlEKB_normal.jpg', 'profile_image_url_https': 'https://pbs.twimg.com/profile_images/1321163587679784960/0ZxKlEKB_normal.jpg', 'profile_banner_url': 'https://pbs.twimg.com/profile_banners/11348282/1670361785', 'profile_link_color': '205BA7', 'profile_sidebar_border_color': '000000', 'profile_sidebar_fill_color': 'F3F2F2', 'profile_text_color': '000000', 'profile_use_background_image': True, 'has_extended_profile': True, 'default_profile': False, 'default_profile_image': False, 'following': True, 'follow_request_sent': False, 'notifications': False, 'translator_type': 'regular', 'withheld_in_countries': []}, id=11348282, id_str='11348282', name='NASA', screen_name='NASA', location='Pale Blue Dot', description=\"There's space for everybody. ✨\", url='https://t.co/9NkQJKAnuU', entities={'url': {'urls': [{'url': 'https://t.co/9NkQJKAnuU', 'expanded_url': 'http://www.nasa.gov/', 'display_url': 'nasa.gov', 'indices': [0, 23]}]}, 'description': {'urls': []}}, protected=False, followers_count=68707939, friends_count=185, listed_count=98995, created_at=datetime.datetime(2007, 12, 19, 20, 20, 32, tzinfo=datetime.timezone.utc), favourites_count=14657, utc_offset=None, time_zone=None, geo_enabled=False, verified=True, statuses_count=69303, lang=None, contributors_enabled=False, is_translator=False, is_translation_enabled=False, profile_background_color='000000', profile_background_image_url='http://abs.twimg.com/images/themes/theme1/bg.png', profile_background_image_url_https='https://abs.twimg.com/images/themes/theme1/bg.png', profile_background_tile=False, profile_image_url='http://pbs.twimg.com/profile_images/1321163587679784960/0ZxKlEKB_normal.jpg', profile_image_url_https='https://pbs.twimg.com/profile_images/1321163587679784960/0ZxKlEKB_normal.jpg', profile_banner_url='https://pbs.twimg.com/profile_banners/11348282/1670361785', profile_link_color='205BA7', profile_sidebar_border_color='000000', profile_sidebar_fill_color='F3F2F2', profile_text_color='000000', profile_use_background_image=True, has_extended_profile=True, default_profile=False, default_profile_image=False, following=True, follow_request_sent=False, notifications=False, translator_type='regular', withheld_in_countries=[])\n",
      "Duplicate tweet id: 1606686673915584512\n",
      "10. User(_api=<tweepy.api.API object at 0x1120084f0>, _json={'id': 34713362, 'id_str': '34713362', 'name': 'Bloomberg', 'screen_name': 'business', 'location': 'New York and the World', 'description': 'The first word in business news.\\nOur newsletters: https://t.co/nWaCxHSKuU\\nOur podcasts: https://t.co/096e9xMbPz\\nThe Big Take podcast: https://t.co/UqskwXtp5Z', 'url': 'https://t.co/kCDIdvrKHF', 'entities': {'url': {'urls': [{'url': 'https://t.co/kCDIdvrKHF', 'expanded_url': 'https://www.bloomberg.com', 'display_url': 'bloomberg.com', 'indices': [0, 23]}]}, 'description': {'urls': [{'url': 'https://t.co/nWaCxHSKuU', 'expanded_url': 'http://bloom.bg/newsletters', 'display_url': 'bloom.bg/newsletters', 'indices': [50, 73]}, {'url': 'https://t.co/096e9xMbPz', 'expanded_url': 'http://bloom.bg/podcasts', 'display_url': 'bloom.bg/podcasts', 'indices': [88, 111]}, {'url': 'https://t.co/UqskwXtp5Z', 'expanded_url': 'http://trib.al/jtoXfuT', 'display_url': 'trib.al/jtoXfuT', 'indices': [134, 157]}]}}, 'protected': False, 'followers_count': 9051939, 'friends_count': 1453, 'listed_count': 68963, 'created_at': 'Thu Apr 23 20:05:17 +0000 2009', 'favourites_count': 3721, 'utc_offset': None, 'time_zone': None, 'geo_enabled': True, 'verified': True, 'statuses_count': 880145, 'lang': None, 'contributors_enabled': False, 'is_translator': False, 'is_translation_enabled': True, 'profile_background_color': '101112', 'profile_background_image_url': 'http://abs.twimg.com/images/themes/theme9/bg.gif', 'profile_background_image_url_https': 'https://abs.twimg.com/images/themes/theme9/bg.gif', 'profile_background_tile': True, 'profile_image_url': 'http://pbs.twimg.com/profile_images/991818020233404416/alrBF_dr_normal.jpg', 'profile_image_url_https': 'https://pbs.twimg.com/profile_images/991818020233404416/alrBF_dr_normal.jpg', 'profile_banner_url': 'https://pbs.twimg.com/profile_banners/34713362/1668696203', 'profile_link_color': '3B94D9', 'profile_sidebar_border_color': 'DADADA', 'profile_sidebar_fill_color': 'EEEEEE', 'profile_text_color': '666666', 'profile_use_background_image': True, 'has_extended_profile': False, 'default_profile': False, 'default_profile_image': False, 'following': True, 'follow_request_sent': False, 'notifications': False, 'translator_type': 'none', 'withheld_in_countries': []}, id=34713362, id_str='34713362', name='Bloomberg', screen_name='business', location='New York and the World', description='The first word in business news.\\nOur newsletters: https://t.co/nWaCxHSKuU\\nOur podcasts: https://t.co/096e9xMbPz\\nThe Big Take podcast: https://t.co/UqskwXtp5Z', url='https://t.co/kCDIdvrKHF', entities={'url': {'urls': [{'url': 'https://t.co/kCDIdvrKHF', 'expanded_url': 'https://www.bloomberg.com', 'display_url': 'bloomberg.com', 'indices': [0, 23]}]}, 'description': {'urls': [{'url': 'https://t.co/nWaCxHSKuU', 'expanded_url': 'http://bloom.bg/newsletters', 'display_url': 'bloom.bg/newsletters', 'indices': [50, 73]}, {'url': 'https://t.co/096e9xMbPz', 'expanded_url': 'http://bloom.bg/podcasts', 'display_url': 'bloom.bg/podcasts', 'indices': [88, 111]}, {'url': 'https://t.co/UqskwXtp5Z', 'expanded_url': 'http://trib.al/jtoXfuT', 'display_url': 'trib.al/jtoXfuT', 'indices': [134, 157]}]}}, protected=False, followers_count=9051939, friends_count=1453, listed_count=68963, created_at=datetime.datetime(2009, 4, 23, 20, 5, 17, tzinfo=datetime.timezone.utc), favourites_count=3721, utc_offset=None, time_zone=None, geo_enabled=True, verified=True, statuses_count=880145, lang=None, contributors_enabled=False, is_translator=False, is_translation_enabled=True, profile_background_color='101112', profile_background_image_url='http://abs.twimg.com/images/themes/theme9/bg.gif', profile_background_image_url_https='https://abs.twimg.com/images/themes/theme9/bg.gif', profile_background_tile=True, profile_image_url='http://pbs.twimg.com/profile_images/991818020233404416/alrBF_dr_normal.jpg', profile_image_url_https='https://pbs.twimg.com/profile_images/991818020233404416/alrBF_dr_normal.jpg', profile_banner_url='https://pbs.twimg.com/profile_banners/34713362/1668696203', profile_link_color='3B94D9', profile_sidebar_border_color='DADADA', profile_sidebar_fill_color='EEEEEE', profile_text_color='666666', profile_use_background_image=True, has_extended_profile=False, default_profile=False, default_profile_image=False, following=True, follow_request_sent=False, notifications=False, translator_type='none', withheld_in_countries=[])\n",
      "Duplicate tweet id: 1606686912823132160\n"
     ]
    }
   ],
   "source": [
    "store.save_tweets_to_db(loader.tweets)"
   ]
  },
  {
   "cell_type": "code",
   "execution_count": null,
   "metadata": {},
   "outputs": [],
   "source": [
    "# data = store.load_data()\n",
    "data = store.load_flat_data()\n",
    "len(data)"
   ]
  },
  {
   "cell_type": "code",
   "execution_count": null,
   "metadata": {},
   "outputs": [],
   "source": [
    "data = store.load_data(latest=True)\n",
    "\n",
    "for user_data in data:\n",
    "    print(user_data[\"user\"])\n",
    "    print(len(user_data[\"tweets\"]))\n",
    "    for tweet in user_data[\"tweets\"]:\n",
    "        print(tweet[\"created_at\"])"
   ]
  },
  {
   "cell_type": "code",
   "execution_count": null,
   "metadata": {},
   "outputs": [],
   "source": [
    "from datetime import datetime\n",
    "\n",
    "dt = data[0][\"tweets\"][0][\"created_at\"]\n",
    "tokens = dt.split()\n",
    "date_info = tokens[1:4] + tokens[5:]\n",
    "date_info = \" \".join(date_info)\n",
    "date_info"
   ]
  },
  {
   "cell_type": "code",
   "execution_count": null,
   "metadata": {},
   "outputs": [],
   "source": [
    "datetime.strptime(date_info, \"%b %d %H:%M:%S %Y\")"
   ]
  },
  {
   "cell_type": "code",
   "execution_count": null,
   "metadata": {},
   "outputs": [],
   "source": [
    "d1 = datetime(1,1,1,1,1,1)\n",
    "d2 = datetime(1,1,1,1,1,2)\n",
    "l = [d2, d1]\n",
    "sorted(l)"
   ]
  }
 ],
 "metadata": {
  "kernelspec": {
   "display_name": "Python 3.8.12 ('.venv': poetry)",
   "language": "python",
   "name": "python3"
  },
  "language_info": {
   "codemirror_mode": {
    "name": "ipython",
    "version": 3
   },
   "file_extension": ".py",
   "mimetype": "text/x-python",
   "name": "python",
   "nbconvert_exporter": "python",
   "pygments_lexer": "ipython3",
   "version": "3.8.12"
  },
  "orig_nbformat": 4,
  "vscode": {
   "interpreter": {
    "hash": "2be0c5224b2fc5679877ab994835d32e5e61031a6913e0f9d088633754b14faa"
   }
  }
 },
 "nbformat": 4,
 "nbformat_minor": 2
}
