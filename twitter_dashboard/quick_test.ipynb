{
 "cells": [
  {
   "cell_type": "code",
   "execution_count": 1,
   "metadata": {},
   "outputs": [],
   "source": [
    "from personal_twitter_data import TweetLoader\n",
    "from mongo_data import MongoTweetStore\n",
    "import pymongo"
   ]
  },
  {
   "cell_type": "code",
   "execution_count": 2,
   "metadata": {},
   "outputs": [],
   "source": [
    "loader = TweetLoader()\n",
    "loader.extract_tweets(count=10)"
   ]
  },
  {
   "cell_type": "code",
   "execution_count": 3,
   "metadata": {},
   "outputs": [
    {
     "data": {
      "text/plain": [
       "10"
      ]
     },
     "execution_count": 3,
     "metadata": {},
     "output_type": "execute_result"
    }
   ],
   "source": [
    "len(loader.get_loaded_tweets_as_json())"
   ]
  },
  {
   "cell_type": "code",
   "execution_count": 4,
   "metadata": {},
   "outputs": [
    {
     "name": "stdout",
     "output_type": "stream",
     "text": [
      "Fox News\n",
      "Bloomberg\n",
      "Forbes\n",
      "Bloomberg\n",
      "Bloomberg\n",
      "Bloomberg\n",
      "The Penny Hoarder\n",
      "Forbes\n",
      "The Wall Street Journal\n",
      "Fox News\n"
     ]
    }
   ],
   "source": [
    "for tweet in loader.tweets:\n",
    "    print(tweet.author.name)\n",
    "    # print(tweet._json)"
   ]
  },
  {
   "cell_type": "code",
   "execution_count": 5,
   "metadata": {},
   "outputs": [],
   "source": [
    "store = MongoTweetStore(\"twitter_dashboard_db\", \"home_timeline\")"
   ]
  },
  {
   "cell_type": "code",
   "execution_count": 6,
   "metadata": {},
   "outputs": [
    {
     "data": {
      "text/plain": [
       "'tweet_id'"
      ]
     },
     "execution_count": 6,
     "metadata": {},
     "output_type": "execute_result"
    }
   ],
   "source": [
    "store.collection.create_index([(\"id\", pymongo.ASCENDING)], name=\"tweet_id\", unique=True, default_language=\"english\")"
   ]
  },
  {
   "cell_type": "code",
   "execution_count": 9,
   "metadata": {},
   "outputs": [
    {
     "name": "stdout",
     "output_type": "stream",
     "text": [
      "1. Fox News\n",
      "Duplicate tweet id: 1606688688167059458\n",
      "2. Forbes\n",
      "Duplicate tweet id: 1606688699743453186\n",
      "3. The Wall Street Journal\n",
      "Duplicate tweet id: 1606688698506133506\n",
      "4. The Penny Hoarder\n",
      "Duplicate tweet id: 1606688862960599040\n",
      "5. Bloomberg\n",
      "Duplicate tweet id: 1606688911752941568\n",
      "6. Bloomberg\n",
      "Duplicate tweet id: 1606689670368305154\n",
      "7. Bloomberg\n",
      "Duplicate tweet id: 1606690673104756737\n",
      "8. Forbes\n",
      "Duplicate tweet id: 1606691188446224385\n",
      "9. Fox News\n",
      "Duplicate tweet id: 1606691191445151744\n",
      "10. Bloomberg\n",
      "Duplicate tweet id: 1606691189448753154\n"
     ]
    }
   ],
   "source": [
    "store.save_tweets_to_db(loader.tweets)"
   ]
  },
  {
   "cell_type": "code",
   "execution_count": 8,
   "metadata": {},
   "outputs": [
    {
     "data": {
      "text/plain": [
       "30"
      ]
     },
     "execution_count": 8,
     "metadata": {},
     "output_type": "execute_result"
    }
   ],
   "source": [
    "# data = store.load_data()\n",
    "data = store.load_flat_data()\n",
    "len(data)"
   ]
  },
  {
   "cell_type": "code",
   "execution_count": null,
   "metadata": {},
   "outputs": [],
   "source": [
    "data = store.load_data(latest=True)\n",
    "\n",
    "for user_data in data:\n",
    "    print(user_data[\"user\"])\n",
    "    print(len(user_data[\"tweets\"]))\n",
    "    for tweet in user_data[\"tweets\"]:\n",
    "        print(tweet[\"created_at\"])"
   ]
  },
  {
   "cell_type": "code",
   "execution_count": 28,
   "metadata": {},
   "outputs": [
    {
     "name": "stdout",
     "output_type": "stream",
     "text": [
      "{'_id': ObjectId('63a6ffc7a6d2371ecb53b05a'), 'created_at': 'Sat Dec 24 13:30:12 +0000 2022', 'id': 1606643406385696770, 'id_str': '1606643406385696770', 'text': 'Covid-19’s rapid spread in China might help answer a question much of the world has been asking for a year: Is Omic… https://t.co/0qMpg6H8tS', 'truncated': True, 'entities': {'hashtags': [], 'symbols': [], 'user_mentions': [], 'urls': [{'url': 'https://t.co/0qMpg6H8tS', 'expanded_url': 'https://twitter.com/i/web/status/1606643406385696770', 'display_url': 'twitter.com/i/web/status/1…', 'indices': [117, 140]}]}, 'source': '<a href=\"http://www.socialflow.com\" rel=\"nofollow\">SocialFlow</a>', 'in_reply_to_status_id': None, 'in_reply_to_status_id_str': None, 'in_reply_to_user_id': None, 'in_reply_to_user_id_str': None, 'in_reply_to_screen_name': None, 'user': {'id': 3108351, 'id_str': '3108351', 'name': 'The Wall Street Journal', 'screen_name': 'WSJ', 'location': 'New York, NY', 'description': 'Sign up for our newsletters and alerts: https://t.co/QevH0DLisA | Got a tip? https://t.co/iXIigdOLPr | For WSJ customer support: https://t.co/DZgH9n4vAI', 'url': 'https://t.co/9rMrYLEXTt', 'entities': {'url': {'urls': [{'url': 'https://t.co/9rMrYLEXTt', 'expanded_url': 'http://wsj.com', 'display_url': 'wsj.com', 'indices': [0, 23]}]}, 'description': {'urls': [{'url': 'https://t.co/QevH0DLisA', 'expanded_url': 'http://wsj.com/newsletters', 'display_url': 'wsj.com/newsletters', 'indices': [40, 63]}, {'url': 'https://t.co/iXIigdOLPr', 'expanded_url': 'http://wsj.com/tips', 'display_url': 'wsj.com/tips', 'indices': [77, 100]}, {'url': 'https://t.co/DZgH9n4vAI', 'expanded_url': 'http://customercenter.wsj.com', 'display_url': 'customercenter.wsj.com', 'indices': [129, 152]}]}}, 'protected': False, 'followers_count': 20396398, 'friends_count': 1080, 'listed_count': 126989, 'created_at': 'Sun Apr 01 06:22:13 +0000 2007', 'favourites_count': 1143, 'utc_offset': None, 'time_zone': None, 'geo_enabled': True, 'verified': True, 'statuses_count': 393044, 'lang': None, 'contributors_enabled': False, 'is_translator': False, 'is_translation_enabled': True, 'profile_background_color': 'EDF2F5', 'profile_background_image_url': 'http://abs.twimg.com/images/themes/theme14/bg.gif', 'profile_background_image_url_https': 'https://abs.twimg.com/images/themes/theme14/bg.gif', 'profile_background_tile': False, 'profile_image_url': 'http://pbs.twimg.com/profile_images/971415515754266624/zCX0q9d5_normal.jpg', 'profile_image_url_https': 'https://pbs.twimg.com/profile_images/971415515754266624/zCX0q9d5_normal.jpg', 'profile_banner_url': 'https://pbs.twimg.com/profile_banners/3108351/1667493390', 'profile_link_color': '1164B8', 'profile_sidebar_border_color': 'FFFFFF', 'profile_sidebar_fill_color': 'EFEFEF', 'profile_text_color': '333333', 'profile_use_background_image': False, 'has_extended_profile': False, 'default_profile': False, 'default_profile_image': False, 'following': True, 'follow_request_sent': False, 'notifications': False, 'translator_type': 'regular', 'withheld_in_countries': []}, 'geo': None, 'coordinates': None, 'place': None, 'contributors': None, 'is_quote_status': False, 'retweet_count': 2, 'favorite_count': 7, 'favorited': False, 'retweeted': False, 'possibly_sensitive': False, 'possibly_sensitive_appealable': False, 'lang': 'en'}\n",
      "{'_id': ObjectId('63a6ffc7a6d2371ecb53b05e'), 'created_at': 'Sat Dec 24 13:28:03 +0000 2022', 'id': 1606642866062856193, 'id_str': '1606642866062856193', 'text': 'The hot toy this year is AI https://t.co/U2KkUEpH2B', 'truncated': False, 'entities': {'hashtags': [], 'symbols': [], 'user_mentions': [], 'urls': [{'url': 'https://t.co/U2KkUEpH2B', 'expanded_url': 'https://trib.al/z7TfrVb', 'display_url': 'trib.al/z7TfrVb', 'indices': [28, 51]}]}, 'source': '<a href=\"http://www.socialflow.com\" rel=\"nofollow\">SocialFlow</a>', 'in_reply_to_status_id': None, 'in_reply_to_status_id_str': None, 'in_reply_to_user_id': None, 'in_reply_to_user_id_str': None, 'in_reply_to_screen_name': None, 'user': {'id': 34713362, 'id_str': '34713362', 'name': 'Bloomberg', 'screen_name': 'business', 'location': 'New York and the World', 'description': 'The first word in business news.\\nOur newsletters: https://t.co/nWaCxHSKuU\\nOur podcasts: https://t.co/096e9xMbPz\\nThe Big Take podcast: https://t.co/UqskwXtp5Z', 'url': 'https://t.co/kCDIdvrKHF', 'entities': {'url': {'urls': [{'url': 'https://t.co/kCDIdvrKHF', 'expanded_url': 'https://www.bloomberg.com', 'display_url': 'bloomberg.com', 'indices': [0, 23]}]}, 'description': {'urls': [{'url': 'https://t.co/nWaCxHSKuU', 'expanded_url': 'http://bloom.bg/newsletters', 'display_url': 'bloom.bg/newsletters', 'indices': [50, 73]}, {'url': 'https://t.co/096e9xMbPz', 'expanded_url': 'http://bloom.bg/podcasts', 'display_url': 'bloom.bg/podcasts', 'indices': [88, 111]}, {'url': 'https://t.co/UqskwXtp5Z', 'expanded_url': 'http://trib.al/jtoXfuT', 'display_url': 'trib.al/jtoXfuT', 'indices': [134, 157]}]}}, 'protected': False, 'followers_count': 9051650, 'friends_count': 1453, 'listed_count': 68960, 'created_at': 'Thu Apr 23 20:05:17 +0000 2009', 'favourites_count': 3721, 'utc_offset': None, 'time_zone': None, 'geo_enabled': True, 'verified': True, 'statuses_count': 880091, 'lang': None, 'contributors_enabled': False, 'is_translator': False, 'is_translation_enabled': True, 'profile_background_color': '101112', 'profile_background_image_url': 'http://abs.twimg.com/images/themes/theme9/bg.gif', 'profile_background_image_url_https': 'https://abs.twimg.com/images/themes/theme9/bg.gif', 'profile_background_tile': True, 'profile_image_url': 'http://pbs.twimg.com/profile_images/991818020233404416/alrBF_dr_normal.jpg', 'profile_image_url_https': 'https://pbs.twimg.com/profile_images/991818020233404416/alrBF_dr_normal.jpg', 'profile_banner_url': 'https://pbs.twimg.com/profile_banners/34713362/1668696203', 'profile_link_color': '3B94D9', 'profile_sidebar_border_color': 'DADADA', 'profile_sidebar_fill_color': 'EEEEEE', 'profile_text_color': '666666', 'profile_use_background_image': True, 'has_extended_profile': False, 'default_profile': False, 'default_profile_image': False, 'following': True, 'follow_request_sent': False, 'notifications': False, 'translator_type': 'none', 'withheld_in_countries': []}, 'geo': None, 'coordinates': None, 'place': None, 'contributors': None, 'is_quote_status': False, 'retweet_count': 3, 'favorite_count': 15, 'favorited': False, 'retweeted': False, 'possibly_sensitive': False, 'possibly_sensitive_appealable': False, 'lang': 'en'}\n",
      "{'_id': ObjectId('63a6ffc7a6d2371ecb53b061'), 'created_at': 'Sat Dec 24 13:19:20 +0000 2022', 'id': 1606640669283467265, 'id_str': '1606640669283467265', 'text': 'During a visit to a homeless shelter, the prime minister asked a man he is serving food to: \"Do you work in busines… https://t.co/ixKYrZeeFa', 'truncated': True, 'entities': {'hashtags': [], 'symbols': [], 'user_mentions': [], 'urls': [{'url': 'https://t.co/ixKYrZeeFa', 'expanded_url': 'https://twitter.com/i/web/status/1606640669283467265', 'display_url': 'twitter.com/i/web/status/1…', 'indices': [117, 140]}]}, 'source': '<a href=\"http://www.socialflow.com\" rel=\"nofollow\">SocialFlow</a>', 'in_reply_to_status_id': None, 'in_reply_to_status_id_str': None, 'in_reply_to_user_id': None, 'in_reply_to_user_id_str': None, 'in_reply_to_screen_name': None, 'user': {'id': 34713362, 'id_str': '34713362', 'name': 'Bloomberg', 'screen_name': 'business', 'location': 'New York and the World', 'description': 'The first word in business news.\\nOur newsletters: https://t.co/nWaCxHSKuU\\nOur podcasts: https://t.co/096e9xMbPz\\nThe Big Take podcast: https://t.co/UqskwXtp5Z', 'url': 'https://t.co/kCDIdvrKHF', 'entities': {'url': {'urls': [{'url': 'https://t.co/kCDIdvrKHF', 'expanded_url': 'https://www.bloomberg.com', 'display_url': 'bloomberg.com', 'indices': [0, 23]}]}, 'description': {'urls': [{'url': 'https://t.co/nWaCxHSKuU', 'expanded_url': 'http://bloom.bg/newsletters', 'display_url': 'bloom.bg/newsletters', 'indices': [50, 73]}, {'url': 'https://t.co/096e9xMbPz', 'expanded_url': 'http://bloom.bg/podcasts', 'display_url': 'bloom.bg/podcasts', 'indices': [88, 111]}, {'url': 'https://t.co/UqskwXtp5Z', 'expanded_url': 'http://trib.al/jtoXfuT', 'display_url': 'trib.al/jtoXfuT', 'indices': [134, 157]}]}}, 'protected': False, 'followers_count': 9051650, 'friends_count': 1453, 'listed_count': 68960, 'created_at': 'Thu Apr 23 20:05:17 +0000 2009', 'favourites_count': 3721, 'utc_offset': None, 'time_zone': None, 'geo_enabled': True, 'verified': True, 'statuses_count': 880091, 'lang': None, 'contributors_enabled': False, 'is_translator': False, 'is_translation_enabled': True, 'profile_background_color': '101112', 'profile_background_image_url': 'http://abs.twimg.com/images/themes/theme9/bg.gif', 'profile_background_image_url_https': 'https://abs.twimg.com/images/themes/theme9/bg.gif', 'profile_background_tile': True, 'profile_image_url': 'http://pbs.twimg.com/profile_images/991818020233404416/alrBF_dr_normal.jpg', 'profile_image_url_https': 'https://pbs.twimg.com/profile_images/991818020233404416/alrBF_dr_normal.jpg', 'profile_banner_url': 'https://pbs.twimg.com/profile_banners/34713362/1668696203', 'profile_link_color': '3B94D9', 'profile_sidebar_border_color': 'DADADA', 'profile_sidebar_fill_color': 'EEEEEE', 'profile_text_color': '666666', 'profile_use_background_image': True, 'has_extended_profile': False, 'default_profile': False, 'default_profile_image': False, 'following': True, 'follow_request_sent': False, 'notifications': False, 'translator_type': 'none', 'withheld_in_countries': []}, 'geo': None, 'coordinates': None, 'place': None, 'contributors': None, 'is_quote_status': False, 'retweet_count': 12, 'favorite_count': 22, 'favorited': False, 'retweeted': False, 'possibly_sensitive': False, 'possibly_sensitive_appealable': False, 'lang': 'en'}\n",
      "{'_id': ObjectId('63a6ffc7a6d2371ecb53b062'), 'created_at': 'Sat Dec 24 13:15:06 +0000 2022', 'id': 1606639603645030402, 'id_str': '1606639603645030402', 'text': 'With prices for many goods rising, some gift-givers are skipping the store altogether https://t.co/6bKzTZrzlC', 'truncated': False, 'entities': {'hashtags': [], 'symbols': [], 'user_mentions': [], 'urls': [{'url': 'https://t.co/6bKzTZrzlC', 'expanded_url': 'https://on.wsj.com/3PNIY6Q', 'display_url': 'on.wsj.com/3PNIY6Q', 'indices': [86, 109]}]}, 'source': '<a href=\"http://www.socialflow.com\" rel=\"nofollow\">SocialFlow</a>', 'in_reply_to_status_id': None, 'in_reply_to_status_id_str': None, 'in_reply_to_user_id': None, 'in_reply_to_user_id_str': None, 'in_reply_to_screen_name': None, 'user': {'id': 3108351, 'id_str': '3108351', 'name': 'The Wall Street Journal', 'screen_name': 'WSJ', 'location': 'New York, NY', 'description': 'Sign up for our newsletters and alerts: https://t.co/QevH0DLisA | Got a tip? https://t.co/iXIigdOLPr | For WSJ customer support: https://t.co/DZgH9n4vAI', 'url': 'https://t.co/9rMrYLEXTt', 'entities': {'url': {'urls': [{'url': 'https://t.co/9rMrYLEXTt', 'expanded_url': 'http://wsj.com', 'display_url': 'wsj.com', 'indices': [0, 23]}]}, 'description': {'urls': [{'url': 'https://t.co/QevH0DLisA', 'expanded_url': 'http://wsj.com/newsletters', 'display_url': 'wsj.com/newsletters', 'indices': [40, 63]}, {'url': 'https://t.co/iXIigdOLPr', 'expanded_url': 'http://wsj.com/tips', 'display_url': 'wsj.com/tips', 'indices': [77, 100]}, {'url': 'https://t.co/DZgH9n4vAI', 'expanded_url': 'http://customercenter.wsj.com', 'display_url': 'customercenter.wsj.com', 'indices': [129, 152]}]}}, 'protected': False, 'followers_count': 20396398, 'friends_count': 1080, 'listed_count': 126989, 'created_at': 'Sun Apr 01 06:22:13 +0000 2007', 'favourites_count': 1143, 'utc_offset': None, 'time_zone': None, 'geo_enabled': True, 'verified': True, 'statuses_count': 393044, 'lang': None, 'contributors_enabled': False, 'is_translator': False, 'is_translation_enabled': True, 'profile_background_color': 'EDF2F5', 'profile_background_image_url': 'http://abs.twimg.com/images/themes/theme14/bg.gif', 'profile_background_image_url_https': 'https://abs.twimg.com/images/themes/theme14/bg.gif', 'profile_background_tile': False, 'profile_image_url': 'http://pbs.twimg.com/profile_images/971415515754266624/zCX0q9d5_normal.jpg', 'profile_image_url_https': 'https://pbs.twimg.com/profile_images/971415515754266624/zCX0q9d5_normal.jpg', 'profile_banner_url': 'https://pbs.twimg.com/profile_banners/3108351/1667493390', 'profile_link_color': '1164B8', 'profile_sidebar_border_color': 'FFFFFF', 'profile_sidebar_fill_color': 'EFEFEF', 'profile_text_color': '333333', 'profile_use_background_image': False, 'has_extended_profile': False, 'default_profile': False, 'default_profile_image': False, 'following': True, 'follow_request_sent': False, 'notifications': False, 'translator_type': 'regular', 'withheld_in_countries': []}, 'geo': None, 'coordinates': None, 'place': None, 'contributors': None, 'is_quote_status': False, 'retweet_count': 5, 'favorite_count': 19, 'favorited': False, 'retweeted': False, 'possibly_sensitive': False, 'possibly_sensitive_appealable': False, 'lang': 'en'}\n",
      "{'_id': ObjectId('63a6ffc7a6d2371ecb53b063'), 'created_at': 'Sat Dec 24 13:15:03 +0000 2022', 'id': 1606639592685420545, 'id_str': '1606639592685420545', 'text': 'Our global dependence on just a few crops makes us vulnerable -- but some countries are trying to reverse the trend… https://t.co/Ujir5hMSzg', 'truncated': True, 'entities': {'hashtags': [], 'symbols': [], 'user_mentions': [], 'urls': [{'url': 'https://t.co/Ujir5hMSzg', 'expanded_url': 'https://twitter.com/i/web/status/1606639592685420545', 'display_url': 'twitter.com/i/web/status/1…', 'indices': [117, 140]}]}, 'source': '<a href=\"http://www.socialflow.com\" rel=\"nofollow\">SocialFlow</a>', 'in_reply_to_status_id': None, 'in_reply_to_status_id_str': None, 'in_reply_to_user_id': None, 'in_reply_to_user_id_str': None, 'in_reply_to_screen_name': None, 'user': {'id': 34713362, 'id_str': '34713362', 'name': 'Bloomberg', 'screen_name': 'business', 'location': 'New York and the World', 'description': 'The first word in business news.\\nOur newsletters: https://t.co/nWaCxHSKuU\\nOur podcasts: https://t.co/096e9xMbPz\\nThe Big Take podcast: https://t.co/UqskwXtp5Z', 'url': 'https://t.co/kCDIdvrKHF', 'entities': {'url': {'urls': [{'url': 'https://t.co/kCDIdvrKHF', 'expanded_url': 'https://www.bloomberg.com', 'display_url': 'bloomberg.com', 'indices': [0, 23]}]}, 'description': {'urls': [{'url': 'https://t.co/nWaCxHSKuU', 'expanded_url': 'http://bloom.bg/newsletters', 'display_url': 'bloom.bg/newsletters', 'indices': [50, 73]}, {'url': 'https://t.co/096e9xMbPz', 'expanded_url': 'http://bloom.bg/podcasts', 'display_url': 'bloom.bg/podcasts', 'indices': [88, 111]}, {'url': 'https://t.co/UqskwXtp5Z', 'expanded_url': 'http://trib.al/jtoXfuT', 'display_url': 'trib.al/jtoXfuT', 'indices': [134, 157]}]}}, 'protected': False, 'followers_count': 9051650, 'friends_count': 1453, 'listed_count': 68960, 'created_at': 'Thu Apr 23 20:05:17 +0000 2009', 'favourites_count': 3721, 'utc_offset': None, 'time_zone': None, 'geo_enabled': True, 'verified': True, 'statuses_count': 880091, 'lang': None, 'contributors_enabled': False, 'is_translator': False, 'is_translation_enabled': True, 'profile_background_color': '101112', 'profile_background_image_url': 'http://abs.twimg.com/images/themes/theme9/bg.gif', 'profile_background_image_url_https': 'https://abs.twimg.com/images/themes/theme9/bg.gif', 'profile_background_tile': True, 'profile_image_url': 'http://pbs.twimg.com/profile_images/991818020233404416/alrBF_dr_normal.jpg', 'profile_image_url_https': 'https://pbs.twimg.com/profile_images/991818020233404416/alrBF_dr_normal.jpg', 'profile_banner_url': 'https://pbs.twimg.com/profile_banners/34713362/1668696203', 'profile_link_color': '3B94D9', 'profile_sidebar_border_color': 'DADADA', 'profile_sidebar_fill_color': 'EEEEEE', 'profile_text_color': '666666', 'profile_use_background_image': True, 'has_extended_profile': False, 'default_profile': False, 'default_profile_image': False, 'following': True, 'follow_request_sent': False, 'notifications': False, 'translator_type': 'none', 'withheld_in_countries': []}, 'geo': None, 'coordinates': None, 'place': None, 'contributors': None, 'is_quote_status': False, 'retweet_count': 7, 'favorite_count': 10, 'favorited': False, 'retweeted': False, 'possibly_sensitive': False, 'possibly_sensitive_appealable': False, 'lang': 'en'}\n",
      "{'_id': ObjectId('63a727ed13905f3daee9078d'), 'created_at': 'Sat Dec 24 16:23:05 +0000 2022', 'id': 1606686912823132160, 'id_str': '1606686912823132160', 'text': \"A diabetes medication's unlikely TikTok fame has led to a four-month-long shortage as celebrities and others embrac… https://t.co/xfQbg91BR6\", 'truncated': True, 'entities': {'hashtags': [], 'symbols': [], 'user_mentions': [], 'urls': [{'url': 'https://t.co/xfQbg91BR6', 'expanded_url': 'https://twitter.com/i/web/status/1606686912823132160', 'display_url': 'twitter.com/i/web/status/1…', 'indices': [117, 140]}]}, 'source': '<a href=\"http://www.socialflow.com\" rel=\"nofollow\">SocialFlow</a>', 'in_reply_to_status_id': None, 'in_reply_to_status_id_str': None, 'in_reply_to_user_id': None, 'in_reply_to_user_id_str': None, 'in_reply_to_screen_name': None, 'user': {'id': 34713362, 'id_str': '34713362', 'name': 'Bloomberg', 'screen_name': 'business', 'location': 'New York and the World', 'description': 'The first word in business news.\\nOur newsletters: https://t.co/nWaCxHSKuU\\nOur podcasts: https://t.co/096e9xMbPz\\nThe Big Take podcast: https://t.co/UqskwXtp5Z', 'url': 'https://t.co/kCDIdvrKHF', 'entities': {'url': {'urls': [{'url': 'https://t.co/kCDIdvrKHF', 'expanded_url': 'https://www.bloomberg.com', 'display_url': 'bloomberg.com', 'indices': [0, 23]}]}, 'description': {'urls': [{'url': 'https://t.co/nWaCxHSKuU', 'expanded_url': 'http://bloom.bg/newsletters', 'display_url': 'bloom.bg/newsletters', 'indices': [50, 73]}, {'url': 'https://t.co/096e9xMbPz', 'expanded_url': 'http://bloom.bg/podcasts', 'display_url': 'bloom.bg/podcasts', 'indices': [88, 111]}, {'url': 'https://t.co/UqskwXtp5Z', 'expanded_url': 'http://trib.al/jtoXfuT', 'display_url': 'trib.al/jtoXfuT', 'indices': [134, 157]}]}}, 'protected': False, 'followers_count': 9051939, 'friends_count': 1453, 'listed_count': 68963, 'created_at': 'Thu Apr 23 20:05:17 +0000 2009', 'favourites_count': 3721, 'utc_offset': None, 'time_zone': None, 'geo_enabled': True, 'verified': True, 'statuses_count': 880145, 'lang': None, 'contributors_enabled': False, 'is_translator': False, 'is_translation_enabled': True, 'profile_background_color': '101112', 'profile_background_image_url': 'http://abs.twimg.com/images/themes/theme9/bg.gif', 'profile_background_image_url_https': 'https://abs.twimg.com/images/themes/theme9/bg.gif', 'profile_background_tile': True, 'profile_image_url': 'http://pbs.twimg.com/profile_images/991818020233404416/alrBF_dr_normal.jpg', 'profile_image_url_https': 'https://pbs.twimg.com/profile_images/991818020233404416/alrBF_dr_normal.jpg', 'profile_banner_url': 'https://pbs.twimg.com/profile_banners/34713362/1668696203', 'profile_link_color': '3B94D9', 'profile_sidebar_border_color': 'DADADA', 'profile_sidebar_fill_color': 'EEEEEE', 'profile_text_color': '666666', 'profile_use_background_image': True, 'has_extended_profile': False, 'default_profile': False, 'default_profile_image': False, 'following': True, 'follow_request_sent': False, 'notifications': False, 'translator_type': 'none', 'withheld_in_countries': []}, 'geo': None, 'coordinates': None, 'place': None, 'contributors': None, 'is_quote_status': False, 'retweet_count': 3, 'favorite_count': 2, 'favorited': False, 'retweeted': False, 'possibly_sensitive': False, 'possibly_sensitive_appealable': False, 'lang': 'en'}\n",
      "{'_id': ObjectId('63a727ed13905f3daee9078f'), 'created_at': 'Sat Dec 24 16:21:02 +0000 2022', 'id': 1606686398513291264, 'id_str': '1606686398513291264', 'text': 'Businessweek’s 2022 Jealousy List: These are all the stories we wish we wrote this year https://t.co/AkczFNs2Iy', 'truncated': False, 'entities': {'hashtags': [], 'symbols': [], 'user_mentions': [], 'urls': [{'url': 'https://t.co/AkczFNs2Iy', 'expanded_url': 'https://trib.al/s6NYc9R', 'display_url': 'trib.al/s6NYc9R', 'indices': [88, 111]}]}, 'source': '<a href=\"http://www.socialflow.com\" rel=\"nofollow\">SocialFlow</a>', 'in_reply_to_status_id': None, 'in_reply_to_status_id_str': None, 'in_reply_to_user_id': None, 'in_reply_to_user_id_str': None, 'in_reply_to_screen_name': None, 'user': {'id': 34713362, 'id_str': '34713362', 'name': 'Bloomberg', 'screen_name': 'business', 'location': 'New York and the World', 'description': 'The first word in business news.\\nOur newsletters: https://t.co/nWaCxHSKuU\\nOur podcasts: https://t.co/096e9xMbPz\\nThe Big Take podcast: https://t.co/UqskwXtp5Z', 'url': 'https://t.co/kCDIdvrKHF', 'entities': {'url': {'urls': [{'url': 'https://t.co/kCDIdvrKHF', 'expanded_url': 'https://www.bloomberg.com', 'display_url': 'bloomberg.com', 'indices': [0, 23]}]}, 'description': {'urls': [{'url': 'https://t.co/nWaCxHSKuU', 'expanded_url': 'http://bloom.bg/newsletters', 'display_url': 'bloom.bg/newsletters', 'indices': [50, 73]}, {'url': 'https://t.co/096e9xMbPz', 'expanded_url': 'http://bloom.bg/podcasts', 'display_url': 'bloom.bg/podcasts', 'indices': [88, 111]}, {'url': 'https://t.co/UqskwXtp5Z', 'expanded_url': 'http://trib.al/jtoXfuT', 'display_url': 'trib.al/jtoXfuT', 'indices': [134, 157]}]}}, 'protected': False, 'followers_count': 9051939, 'friends_count': 1453, 'listed_count': 68963, 'created_at': 'Thu Apr 23 20:05:17 +0000 2009', 'favourites_count': 3721, 'utc_offset': None, 'time_zone': None, 'geo_enabled': True, 'verified': True, 'statuses_count': 880145, 'lang': None, 'contributors_enabled': False, 'is_translator': False, 'is_translation_enabled': True, 'profile_background_color': '101112', 'profile_background_image_url': 'http://abs.twimg.com/images/themes/theme9/bg.gif', 'profile_background_image_url_https': 'https://abs.twimg.com/images/themes/theme9/bg.gif', 'profile_background_tile': True, 'profile_image_url': 'http://pbs.twimg.com/profile_images/991818020233404416/alrBF_dr_normal.jpg', 'profile_image_url_https': 'https://pbs.twimg.com/profile_images/991818020233404416/alrBF_dr_normal.jpg', 'profile_banner_url': 'https://pbs.twimg.com/profile_banners/34713362/1668696203', 'profile_link_color': '3B94D9', 'profile_sidebar_border_color': 'DADADA', 'profile_sidebar_fill_color': 'EEEEEE', 'profile_text_color': '666666', 'profile_use_background_image': True, 'has_extended_profile': False, 'default_profile': False, 'default_profile_image': False, 'following': True, 'follow_request_sent': False, 'notifications': False, 'translator_type': 'none', 'withheld_in_countries': []}, 'geo': None, 'coordinates': None, 'place': None, 'contributors': None, 'is_quote_status': False, 'retweet_count': 1, 'favorite_count': 3, 'favorited': False, 'retweeted': False, 'possibly_sensitive': False, 'possibly_sensitive_appealable': False, 'lang': 'en'}\n",
      "{'_id': ObjectId('63a727ed13905f3daee90792'), 'created_at': 'Sat Dec 24 16:16:01 +0000 2022', 'id': 1606685134807343112, 'id_str': '1606685134807343112', 'text': \"YouTube is getting NFL Sunday Ticket. Here's what you need to know https://t.co/luB4N4mgSl\", 'truncated': False, 'entities': {'hashtags': [], 'symbols': [], 'user_mentions': [], 'urls': [{'url': 'https://t.co/luB4N4mgSl', 'expanded_url': 'https://trib.al/DuDHZbZ', 'display_url': 'trib.al/DuDHZbZ', 'indices': [67, 90]}]}, 'source': '<a href=\"http://www.socialflow.com\" rel=\"nofollow\">SocialFlow</a>', 'in_reply_to_status_id': None, 'in_reply_to_status_id_str': None, 'in_reply_to_user_id': None, 'in_reply_to_user_id_str': None, 'in_reply_to_screen_name': None, 'user': {'id': 34713362, 'id_str': '34713362', 'name': 'Bloomberg', 'screen_name': 'business', 'location': 'New York and the World', 'description': 'The first word in business news.\\nOur newsletters: https://t.co/nWaCxHSKuU\\nOur podcasts: https://t.co/096e9xMbPz\\nThe Big Take podcast: https://t.co/UqskwXtp5Z', 'url': 'https://t.co/kCDIdvrKHF', 'entities': {'url': {'urls': [{'url': 'https://t.co/kCDIdvrKHF', 'expanded_url': 'https://www.bloomberg.com', 'display_url': 'bloomberg.com', 'indices': [0, 23]}]}, 'description': {'urls': [{'url': 'https://t.co/nWaCxHSKuU', 'expanded_url': 'http://bloom.bg/newsletters', 'display_url': 'bloom.bg/newsletters', 'indices': [50, 73]}, {'url': 'https://t.co/096e9xMbPz', 'expanded_url': 'http://bloom.bg/podcasts', 'display_url': 'bloom.bg/podcasts', 'indices': [88, 111]}, {'url': 'https://t.co/UqskwXtp5Z', 'expanded_url': 'http://trib.al/jtoXfuT', 'display_url': 'trib.al/jtoXfuT', 'indices': [134, 157]}]}}, 'protected': False, 'followers_count': 9051939, 'friends_count': 1453, 'listed_count': 68963, 'created_at': 'Thu Apr 23 20:05:17 +0000 2009', 'favourites_count': 3721, 'utc_offset': None, 'time_zone': None, 'geo_enabled': True, 'verified': True, 'statuses_count': 880145, 'lang': None, 'contributors_enabled': False, 'is_translator': False, 'is_translation_enabled': True, 'profile_background_color': '101112', 'profile_background_image_url': 'http://abs.twimg.com/images/themes/theme9/bg.gif', 'profile_background_image_url_https': 'https://abs.twimg.com/images/themes/theme9/bg.gif', 'profile_background_tile': True, 'profile_image_url': 'http://pbs.twimg.com/profile_images/991818020233404416/alrBF_dr_normal.jpg', 'profile_image_url_https': 'https://pbs.twimg.com/profile_images/991818020233404416/alrBF_dr_normal.jpg', 'profile_banner_url': 'https://pbs.twimg.com/profile_banners/34713362/1668696203', 'profile_link_color': '3B94D9', 'profile_sidebar_border_color': 'DADADA', 'profile_sidebar_fill_color': 'EEEEEE', 'profile_text_color': '666666', 'profile_use_background_image': True, 'has_extended_profile': False, 'default_profile': False, 'default_profile_image': False, 'following': True, 'follow_request_sent': False, 'notifications': False, 'translator_type': 'none', 'withheld_in_countries': []}, 'geo': None, 'coordinates': None, 'place': None, 'contributors': None, 'is_quote_status': False, 'retweet_count': 3, 'favorite_count': 14, 'favorited': False, 'retweeted': False, 'possibly_sensitive': False, 'possibly_sensitive_appealable': False, 'lang': 'en'}\n",
      "{'_id': ObjectId('63a727ed13905f3daee90794'), 'created_at': 'Sat Dec 24 16:15:07 +0000 2022', 'id': 1606684909246070785, 'id_str': '1606684909246070785', 'text': \"Egypt's proposed new capital city is located in a desert plain and is years from completion. Will Egyptians want to… https://t.co/ldyVoL7MZ4\", 'truncated': True, 'entities': {'hashtags': [], 'symbols': [], 'user_mentions': [], 'urls': [{'url': 'https://t.co/ldyVoL7MZ4', 'expanded_url': 'https://twitter.com/i/web/status/1606684909246070785', 'display_url': 'twitter.com/i/web/status/1…', 'indices': [117, 140]}]}, 'source': '<a href=\"http://www.socialflow.com\" rel=\"nofollow\">SocialFlow</a>', 'in_reply_to_status_id': None, 'in_reply_to_status_id_str': None, 'in_reply_to_user_id': None, 'in_reply_to_user_id_str': None, 'in_reply_to_screen_name': None, 'user': {'id': 3108351, 'id_str': '3108351', 'name': 'The Wall Street Journal', 'screen_name': 'WSJ', 'location': 'New York, NY', 'description': 'Sign up for our newsletters and alerts: https://t.co/QevH0DLisA | Got a tip? https://t.co/iXIigdOLPr | For WSJ customer support: https://t.co/DZgH9n4vAI', 'url': 'https://t.co/9rMrYLEXTt', 'entities': {'url': {'urls': [{'url': 'https://t.co/9rMrYLEXTt', 'expanded_url': 'http://wsj.com', 'display_url': 'wsj.com', 'indices': [0, 23]}]}, 'description': {'urls': [{'url': 'https://t.co/QevH0DLisA', 'expanded_url': 'http://wsj.com/newsletters', 'display_url': 'wsj.com/newsletters', 'indices': [40, 63]}, {'url': 'https://t.co/iXIigdOLPr', 'expanded_url': 'http://wsj.com/tips', 'display_url': 'wsj.com/tips', 'indices': [77, 100]}, {'url': 'https://t.co/DZgH9n4vAI', 'expanded_url': 'http://customercenter.wsj.com', 'display_url': 'customercenter.wsj.com', 'indices': [129, 152]}]}}, 'protected': False, 'followers_count': 20396705, 'friends_count': 1080, 'listed_count': 126994, 'created_at': 'Sun Apr 01 06:22:13 +0000 2007', 'favourites_count': 1143, 'utc_offset': None, 'time_zone': None, 'geo_enabled': True, 'verified': True, 'statuses_count': 393056, 'lang': None, 'contributors_enabled': False, 'is_translator': False, 'is_translation_enabled': True, 'profile_background_color': 'EDF2F5', 'profile_background_image_url': 'http://abs.twimg.com/images/themes/theme14/bg.gif', 'profile_background_image_url_https': 'https://abs.twimg.com/images/themes/theme14/bg.gif', 'profile_background_tile': False, 'profile_image_url': 'http://pbs.twimg.com/profile_images/971415515754266624/zCX0q9d5_normal.jpg', 'profile_image_url_https': 'https://pbs.twimg.com/profile_images/971415515754266624/zCX0q9d5_normal.jpg', 'profile_banner_url': 'https://pbs.twimg.com/profile_banners/3108351/1667493390', 'profile_link_color': '1164B8', 'profile_sidebar_border_color': 'FFFFFF', 'profile_sidebar_fill_color': 'EFEFEF', 'profile_text_color': '333333', 'profile_use_background_image': False, 'has_extended_profile': False, 'default_profile': False, 'default_profile_image': False, 'following': True, 'follow_request_sent': False, 'notifications': False, 'translator_type': 'regular', 'withheld_in_countries': []}, 'geo': None, 'coordinates': None, 'place': None, 'contributors': None, 'is_quote_status': False, 'retweet_count': 4, 'favorite_count': 11, 'favorited': False, 'retweeted': False, 'possibly_sensitive': False, 'possibly_sensitive_appealable': False, 'lang': 'en'}\n",
      "{'_id': ObjectId('63a727ed13905f3daee90795'), 'created_at': 'Sat Dec 24 16:15:05 +0000 2022', 'id': 1606684898684813312, 'id_str': '1606684898684813312', 'text': 'Forget Kevin Bacon. Try six degrees of separation from gummy bears https://t.co/emCXPmXeAo', 'truncated': False, 'entities': {'hashtags': [], 'symbols': [], 'user_mentions': [], 'urls': [{'url': 'https://t.co/emCXPmXeAo', 'expanded_url': 'https://trib.al/Xla3dm2', 'display_url': 'trib.al/Xla3dm2', 'indices': [67, 90]}]}, 'source': '<a href=\"http://www.socialflow.com\" rel=\"nofollow\">SocialFlow</a>', 'in_reply_to_status_id': None, 'in_reply_to_status_id_str': None, 'in_reply_to_user_id': None, 'in_reply_to_user_id_str': None, 'in_reply_to_screen_name': None, 'user': {'id': 34713362, 'id_str': '34713362', 'name': 'Bloomberg', 'screen_name': 'business', 'location': 'New York and the World', 'description': 'The first word in business news.\\nOur newsletters: https://t.co/nWaCxHSKuU\\nOur podcasts: https://t.co/096e9xMbPz\\nThe Big Take podcast: https://t.co/UqskwXtp5Z', 'url': 'https://t.co/kCDIdvrKHF', 'entities': {'url': {'urls': [{'url': 'https://t.co/kCDIdvrKHF', 'expanded_url': 'https://www.bloomberg.com', 'display_url': 'bloomberg.com', 'indices': [0, 23]}]}, 'description': {'urls': [{'url': 'https://t.co/nWaCxHSKuU', 'expanded_url': 'http://bloom.bg/newsletters', 'display_url': 'bloom.bg/newsletters', 'indices': [50, 73]}, {'url': 'https://t.co/096e9xMbPz', 'expanded_url': 'http://bloom.bg/podcasts', 'display_url': 'bloom.bg/podcasts', 'indices': [88, 111]}, {'url': 'https://t.co/UqskwXtp5Z', 'expanded_url': 'http://trib.al/jtoXfuT', 'display_url': 'trib.al/jtoXfuT', 'indices': [134, 157]}]}}, 'protected': False, 'followers_count': 9051939, 'friends_count': 1453, 'listed_count': 68963, 'created_at': 'Thu Apr 23 20:05:17 +0000 2009', 'favourites_count': 3721, 'utc_offset': None, 'time_zone': None, 'geo_enabled': True, 'verified': True, 'statuses_count': 880145, 'lang': None, 'contributors_enabled': False, 'is_translator': False, 'is_translation_enabled': True, 'profile_background_color': '101112', 'profile_background_image_url': 'http://abs.twimg.com/images/themes/theme9/bg.gif', 'profile_background_image_url_https': 'https://abs.twimg.com/images/themes/theme9/bg.gif', 'profile_background_tile': True, 'profile_image_url': 'http://pbs.twimg.com/profile_images/991818020233404416/alrBF_dr_normal.jpg', 'profile_image_url_https': 'https://pbs.twimg.com/profile_images/991818020233404416/alrBF_dr_normal.jpg', 'profile_banner_url': 'https://pbs.twimg.com/profile_banners/34713362/1668696203', 'profile_link_color': '3B94D9', 'profile_sidebar_border_color': 'DADADA', 'profile_sidebar_fill_color': 'EEEEEE', 'profile_text_color': '666666', 'profile_use_background_image': True, 'has_extended_profile': False, 'default_profile': False, 'default_profile_image': False, 'following': True, 'follow_request_sent': False, 'notifications': False, 'translator_type': 'none', 'withheld_in_countries': []}, 'geo': None, 'coordinates': None, 'place': None, 'contributors': None, 'is_quote_status': False, 'retweet_count': 4, 'favorite_count': 8, 'favorited': False, 'retweeted': False, 'possibly_sensitive': False, 'possibly_sensitive_appealable': False, 'lang': 'en'}\n",
      "{'_id': ObjectId('63a72c5dd0088d9ab149b4f3'), 'created_at': 'Sat Dec 24 16:30:11 +0000 2022', 'id': 1606688698506133506, 'id_str': '1606688698506133506', 'text': 'Heavy snow, strong winds and dangerous wind chills that created a “bomb cyclone” are expected to continue through t… https://t.co/ICNg0ypzds', 'truncated': True, 'entities': {'hashtags': [], 'symbols': [], 'user_mentions': [], 'urls': [{'url': 'https://t.co/ICNg0ypzds', 'expanded_url': 'https://twitter.com/i/web/status/1606688698506133506', 'display_url': 'twitter.com/i/web/status/1…', 'indices': [117, 140]}]}, 'source': '<a href=\"http://www.socialflow.com\" rel=\"nofollow\">SocialFlow</a>', 'in_reply_to_status_id': None, 'in_reply_to_status_id_str': None, 'in_reply_to_user_id': None, 'in_reply_to_user_id_str': None, 'in_reply_to_screen_name': None, 'user': {'id': 3108351, 'id_str': '3108351', 'name': 'The Wall Street Journal', 'screen_name': 'WSJ', 'location': 'New York, NY', 'description': 'Sign up for our newsletters and alerts: https://t.co/QevH0DLisA | Got a tip? https://t.co/iXIigdOLPr | For WSJ customer support: https://t.co/DZgH9n4vAI', 'url': 'https://t.co/9rMrYLEXTt', 'entities': {'url': {'urls': [{'url': 'https://t.co/9rMrYLEXTt', 'expanded_url': 'http://wsj.com', 'display_url': 'wsj.com', 'indices': [0, 23]}]}, 'description': {'urls': [{'url': 'https://t.co/QevH0DLisA', 'expanded_url': 'http://wsj.com/newsletters', 'display_url': 'wsj.com/newsletters', 'indices': [40, 63]}, {'url': 'https://t.co/iXIigdOLPr', 'expanded_url': 'http://wsj.com/tips', 'display_url': 'wsj.com/tips', 'indices': [77, 100]}, {'url': 'https://t.co/DZgH9n4vAI', 'expanded_url': 'http://customercenter.wsj.com', 'display_url': 'customercenter.wsj.com', 'indices': [129, 152]}]}}, 'protected': False, 'followers_count': 20396668, 'friends_count': 1080, 'listed_count': 126987, 'created_at': 'Sun Apr 01 06:22:13 +0000 2007', 'favourites_count': 1143, 'utc_offset': None, 'time_zone': None, 'geo_enabled': True, 'verified': True, 'statuses_count': 393057, 'lang': None, 'contributors_enabled': False, 'is_translator': False, 'is_translation_enabled': True, 'profile_background_color': 'EDF2F5', 'profile_background_image_url': 'http://abs.twimg.com/images/themes/theme14/bg.gif', 'profile_background_image_url_https': 'https://abs.twimg.com/images/themes/theme14/bg.gif', 'profile_background_tile': False, 'profile_image_url': 'http://pbs.twimg.com/profile_images/971415515754266624/zCX0q9d5_normal.jpg', 'profile_image_url_https': 'https://pbs.twimg.com/profile_images/971415515754266624/zCX0q9d5_normal.jpg', 'profile_banner_url': 'https://pbs.twimg.com/profile_banners/3108351/1667493390', 'profile_link_color': '1164B8', 'profile_sidebar_border_color': 'FFFFFF', 'profile_sidebar_fill_color': 'EFEFEF', 'profile_text_color': '333333', 'profile_use_background_image': False, 'has_extended_profile': False, 'default_profile': False, 'default_profile_image': False, 'following': True, 'follow_request_sent': False, 'notifications': False, 'translator_type': 'regular', 'withheld_in_countries': []}, 'geo': None, 'coordinates': None, 'place': None, 'contributors': None, 'is_quote_status': False, 'retweet_count': 4, 'favorite_count': 23, 'favorited': False, 'retweeted': False, 'possibly_sensitive': False, 'possibly_sensitive_appealable': False, 'lang': 'en'}\n",
      "{'_id': ObjectId('63a72c5dd0088d9ab149b4f5'), 'created_at': 'Sat Dec 24 16:31:02 +0000 2022', 'id': 1606688911752941568, 'id_str': '1606688911752941568', 'text': \"Los Angeles restaurants continue to shine on Michelin's California list https://t.co/vXQyKlf9lE\", 'truncated': False, 'entities': {'hashtags': [], 'symbols': [], 'user_mentions': [], 'urls': [{'url': 'https://t.co/vXQyKlf9lE', 'expanded_url': 'https://trib.al/iCj51BT', 'display_url': 'trib.al/iCj51BT', 'indices': [72, 95]}]}, 'source': '<a href=\"http://www.socialflow.com\" rel=\"nofollow\">SocialFlow</a>', 'in_reply_to_status_id': None, 'in_reply_to_status_id_str': None, 'in_reply_to_user_id': None, 'in_reply_to_user_id_str': None, 'in_reply_to_screen_name': None, 'user': {'id': 34713362, 'id_str': '34713362', 'name': 'Bloomberg', 'screen_name': 'business', 'location': 'New York and the World', 'description': 'The first word in business news.\\nOur newsletters: https://t.co/nWaCxHSKuU\\nOur podcasts: https://t.co/096e9xMbPz\\nThe Big Take podcast: https://t.co/UqskwXtp5Z', 'url': 'https://t.co/kCDIdvrKHF', 'entities': {'url': {'urls': [{'url': 'https://t.co/kCDIdvrKHF', 'expanded_url': 'https://www.bloomberg.com', 'display_url': 'bloomberg.com', 'indices': [0, 23]}]}, 'description': {'urls': [{'url': 'https://t.co/nWaCxHSKuU', 'expanded_url': 'http://bloom.bg/newsletters', 'display_url': 'bloom.bg/newsletters', 'indices': [50, 73]}, {'url': 'https://t.co/096e9xMbPz', 'expanded_url': 'http://bloom.bg/podcasts', 'display_url': 'bloom.bg/podcasts', 'indices': [88, 111]}, {'url': 'https://t.co/UqskwXtp5Z', 'expanded_url': 'http://trib.al/jtoXfuT', 'display_url': 'trib.al/jtoXfuT', 'indices': [134, 157]}]}}, 'protected': False, 'followers_count': 9051999, 'friends_count': 1453, 'listed_count': 68963, 'created_at': 'Thu Apr 23 20:05:17 +0000 2009', 'favourites_count': 3721, 'utc_offset': None, 'time_zone': None, 'geo_enabled': True, 'verified': True, 'statuses_count': 880151, 'lang': None, 'contributors_enabled': False, 'is_translator': False, 'is_translation_enabled': True, 'profile_background_color': '101112', 'profile_background_image_url': 'http://abs.twimg.com/images/themes/theme9/bg.gif', 'profile_background_image_url_https': 'https://abs.twimg.com/images/themes/theme9/bg.gif', 'profile_background_tile': True, 'profile_image_url': 'http://pbs.twimg.com/profile_images/991818020233404416/alrBF_dr_normal.jpg', 'profile_image_url_https': 'https://pbs.twimg.com/profile_images/991818020233404416/alrBF_dr_normal.jpg', 'profile_banner_url': 'https://pbs.twimg.com/profile_banners/34713362/1668696203', 'profile_link_color': '3B94D9', 'profile_sidebar_border_color': 'DADADA', 'profile_sidebar_fill_color': 'EEEEEE', 'profile_text_color': '666666', 'profile_use_background_image': True, 'has_extended_profile': False, 'default_profile': False, 'default_profile_image': False, 'following': True, 'follow_request_sent': False, 'notifications': False, 'translator_type': 'none', 'withheld_in_countries': []}, 'geo': None, 'coordinates': None, 'place': None, 'contributors': None, 'is_quote_status': False, 'retweet_count': 3, 'favorite_count': 9, 'favorited': False, 'retweeted': False, 'possibly_sensitive': False, 'possibly_sensitive_appealable': False, 'lang': 'en'}\n",
      "{'_id': ObjectId('63a72c5dd0088d9ab149b4f6'), 'created_at': 'Sat Dec 24 16:34:02 +0000 2022', 'id': 1606689670368305154, 'id_str': '1606689670368305154', 'text': \"Here's where to invest $1 million right now https://t.co/gbdenbxsPL\", 'truncated': False, 'entities': {'hashtags': [], 'symbols': [], 'user_mentions': [], 'urls': [{'url': 'https://t.co/gbdenbxsPL', 'expanded_url': 'https://trib.al/rmCgI6I', 'display_url': 'trib.al/rmCgI6I', 'indices': [44, 67]}]}, 'source': '<a href=\"http://www.socialflow.com\" rel=\"nofollow\">SocialFlow</a>', 'in_reply_to_status_id': None, 'in_reply_to_status_id_str': None, 'in_reply_to_user_id': None, 'in_reply_to_user_id_str': None, 'in_reply_to_screen_name': None, 'user': {'id': 34713362, 'id_str': '34713362', 'name': 'Bloomberg', 'screen_name': 'business', 'location': 'New York and the World', 'description': 'The first word in business news.\\nOur newsletters: https://t.co/nWaCxHSKuU\\nOur podcasts: https://t.co/096e9xMbPz\\nThe Big Take podcast: https://t.co/UqskwXtp5Z', 'url': 'https://t.co/kCDIdvrKHF', 'entities': {'url': {'urls': [{'url': 'https://t.co/kCDIdvrKHF', 'expanded_url': 'https://www.bloomberg.com', 'display_url': 'bloomberg.com', 'indices': [0, 23]}]}, 'description': {'urls': [{'url': 'https://t.co/nWaCxHSKuU', 'expanded_url': 'http://bloom.bg/newsletters', 'display_url': 'bloom.bg/newsletters', 'indices': [50, 73]}, {'url': 'https://t.co/096e9xMbPz', 'expanded_url': 'http://bloom.bg/podcasts', 'display_url': 'bloom.bg/podcasts', 'indices': [88, 111]}, {'url': 'https://t.co/UqskwXtp5Z', 'expanded_url': 'http://trib.al/jtoXfuT', 'display_url': 'trib.al/jtoXfuT', 'indices': [134, 157]}]}}, 'protected': False, 'followers_count': 9051999, 'friends_count': 1453, 'listed_count': 68963, 'created_at': 'Thu Apr 23 20:05:17 +0000 2009', 'favourites_count': 3721, 'utc_offset': None, 'time_zone': None, 'geo_enabled': True, 'verified': True, 'statuses_count': 880151, 'lang': None, 'contributors_enabled': False, 'is_translator': False, 'is_translation_enabled': True, 'profile_background_color': '101112', 'profile_background_image_url': 'http://abs.twimg.com/images/themes/theme9/bg.gif', 'profile_background_image_url_https': 'https://abs.twimg.com/images/themes/theme9/bg.gif', 'profile_background_tile': True, 'profile_image_url': 'http://pbs.twimg.com/profile_images/991818020233404416/alrBF_dr_normal.jpg', 'profile_image_url_https': 'https://pbs.twimg.com/profile_images/991818020233404416/alrBF_dr_normal.jpg', 'profile_banner_url': 'https://pbs.twimg.com/profile_banners/34713362/1668696203', 'profile_link_color': '3B94D9', 'profile_sidebar_border_color': 'DADADA', 'profile_sidebar_fill_color': 'EEEEEE', 'profile_text_color': '666666', 'profile_use_background_image': True, 'has_extended_profile': False, 'default_profile': False, 'default_profile_image': False, 'following': True, 'follow_request_sent': False, 'notifications': False, 'translator_type': 'none', 'withheld_in_countries': []}, 'geo': None, 'coordinates': None, 'place': None, 'contributors': None, 'is_quote_status': False, 'retweet_count': 3, 'favorite_count': 12, 'favorited': False, 'retweeted': False, 'possibly_sensitive': False, 'possibly_sensitive_appealable': False, 'lang': 'en'}\n",
      "{'_id': ObjectId('63a72c5dd0088d9ab149b4f7'), 'created_at': 'Sat Dec 24 16:38:01 +0000 2022', 'id': 1606690673104756737, 'id_str': '1606690673104756737', 'text': 'Employers are getting back some leverage when it comes to salary negotiation https://t.co/K1IpepYKn0', 'truncated': False, 'entities': {'hashtags': [], 'symbols': [], 'user_mentions': [], 'urls': [{'url': 'https://t.co/K1IpepYKn0', 'expanded_url': 'https://trib.al/G3RhJYa', 'display_url': 'trib.al/G3RhJYa', 'indices': [77, 100]}]}, 'source': '<a href=\"http://www.socialflow.com\" rel=\"nofollow\">SocialFlow</a>', 'in_reply_to_status_id': None, 'in_reply_to_status_id_str': None, 'in_reply_to_user_id': None, 'in_reply_to_user_id_str': None, 'in_reply_to_screen_name': None, 'user': {'id': 34713362, 'id_str': '34713362', 'name': 'Bloomberg', 'screen_name': 'business', 'location': 'New York and the World', 'description': 'The first word in business news.\\nOur newsletters: https://t.co/nWaCxHSKuU\\nOur podcasts: https://t.co/096e9xMbPz\\nThe Big Take podcast: https://t.co/UqskwXtp5Z', 'url': 'https://t.co/kCDIdvrKHF', 'entities': {'url': {'urls': [{'url': 'https://t.co/kCDIdvrKHF', 'expanded_url': 'https://www.bloomberg.com', 'display_url': 'bloomberg.com', 'indices': [0, 23]}]}, 'description': {'urls': [{'url': 'https://t.co/nWaCxHSKuU', 'expanded_url': 'http://bloom.bg/newsletters', 'display_url': 'bloom.bg/newsletters', 'indices': [50, 73]}, {'url': 'https://t.co/096e9xMbPz', 'expanded_url': 'http://bloom.bg/podcasts', 'display_url': 'bloom.bg/podcasts', 'indices': [88, 111]}, {'url': 'https://t.co/UqskwXtp5Z', 'expanded_url': 'http://trib.al/jtoXfuT', 'display_url': 'trib.al/jtoXfuT', 'indices': [134, 157]}]}}, 'protected': False, 'followers_count': 9051999, 'friends_count': 1453, 'listed_count': 68963, 'created_at': 'Thu Apr 23 20:05:17 +0000 2009', 'favourites_count': 3721, 'utc_offset': None, 'time_zone': None, 'geo_enabled': True, 'verified': True, 'statuses_count': 880151, 'lang': None, 'contributors_enabled': False, 'is_translator': False, 'is_translation_enabled': True, 'profile_background_color': '101112', 'profile_background_image_url': 'http://abs.twimg.com/images/themes/theme9/bg.gif', 'profile_background_image_url_https': 'https://abs.twimg.com/images/themes/theme9/bg.gif', 'profile_background_tile': True, 'profile_image_url': 'http://pbs.twimg.com/profile_images/991818020233404416/alrBF_dr_normal.jpg', 'profile_image_url_https': 'https://pbs.twimg.com/profile_images/991818020233404416/alrBF_dr_normal.jpg', 'profile_banner_url': 'https://pbs.twimg.com/profile_banners/34713362/1668696203', 'profile_link_color': '3B94D9', 'profile_sidebar_border_color': 'DADADA', 'profile_sidebar_fill_color': 'EEEEEE', 'profile_text_color': '666666', 'profile_use_background_image': True, 'has_extended_profile': False, 'default_profile': False, 'default_profile_image': False, 'following': True, 'follow_request_sent': False, 'notifications': False, 'translator_type': 'none', 'withheld_in_countries': []}, 'geo': None, 'coordinates': None, 'place': None, 'contributors': None, 'is_quote_status': False, 'retweet_count': 3, 'favorite_count': 4, 'favorited': False, 'retweeted': False, 'possibly_sensitive': False, 'possibly_sensitive_appealable': False, 'lang': 'en'}\n",
      "{'_id': ObjectId('63a72c5dd0088d9ab149b4fa'), 'created_at': 'Sat Dec 24 16:40:05 +0000 2022', 'id': 1606691189448753154, 'id_str': '1606691189448753154', 'text': \"What we've learned so far about Trump's taxes, in charts https://t.co/i7JnNpoDNM\", 'truncated': False, 'entities': {'hashtags': [], 'symbols': [], 'user_mentions': [], 'urls': [{'url': 'https://t.co/i7JnNpoDNM', 'expanded_url': 'https://trib.al/ppRuA3s', 'display_url': 'trib.al/ppRuA3s', 'indices': [57, 80]}]}, 'source': '<a href=\"http://www.socialflow.com\" rel=\"nofollow\">SocialFlow</a>', 'in_reply_to_status_id': None, 'in_reply_to_status_id_str': None, 'in_reply_to_user_id': None, 'in_reply_to_user_id_str': None, 'in_reply_to_screen_name': None, 'user': {'id': 34713362, 'id_str': '34713362', 'name': 'Bloomberg', 'screen_name': 'business', 'location': 'New York and the World', 'description': 'The first word in business news.\\nOur newsletters: https://t.co/nWaCxHSKuU\\nOur podcasts: https://t.co/096e9xMbPz\\nThe Big Take podcast: https://t.co/UqskwXtp5Z', 'url': 'https://t.co/kCDIdvrKHF', 'entities': {'url': {'urls': [{'url': 'https://t.co/kCDIdvrKHF', 'expanded_url': 'https://www.bloomberg.com', 'display_url': 'bloomberg.com', 'indices': [0, 23]}]}, 'description': {'urls': [{'url': 'https://t.co/nWaCxHSKuU', 'expanded_url': 'http://bloom.bg/newsletters', 'display_url': 'bloom.bg/newsletters', 'indices': [50, 73]}, {'url': 'https://t.co/096e9xMbPz', 'expanded_url': 'http://bloom.bg/podcasts', 'display_url': 'bloom.bg/podcasts', 'indices': [88, 111]}, {'url': 'https://t.co/UqskwXtp5Z', 'expanded_url': 'http://trib.al/jtoXfuT', 'display_url': 'trib.al/jtoXfuT', 'indices': [134, 157]}]}}, 'protected': False, 'followers_count': 9051999, 'friends_count': 1453, 'listed_count': 68963, 'created_at': 'Thu Apr 23 20:05:17 +0000 2009', 'favourites_count': 3721, 'utc_offset': None, 'time_zone': None, 'geo_enabled': True, 'verified': True, 'statuses_count': 880151, 'lang': None, 'contributors_enabled': False, 'is_translator': False, 'is_translation_enabled': True, 'profile_background_color': '101112', 'profile_background_image_url': 'http://abs.twimg.com/images/themes/theme9/bg.gif', 'profile_background_image_url_https': 'https://abs.twimg.com/images/themes/theme9/bg.gif', 'profile_background_tile': True, 'profile_image_url': 'http://pbs.twimg.com/profile_images/991818020233404416/alrBF_dr_normal.jpg', 'profile_image_url_https': 'https://pbs.twimg.com/profile_images/991818020233404416/alrBF_dr_normal.jpg', 'profile_banner_url': 'https://pbs.twimg.com/profile_banners/34713362/1668696203', 'profile_link_color': '3B94D9', 'profile_sidebar_border_color': 'DADADA', 'profile_sidebar_fill_color': 'EEEEEE', 'profile_text_color': '666666', 'profile_use_background_image': True, 'has_extended_profile': False, 'default_profile': False, 'default_profile_image': False, 'following': True, 'follow_request_sent': False, 'notifications': False, 'translator_type': 'none', 'withheld_in_countries': []}, 'geo': None, 'coordinates': None, 'place': None, 'contributors': None, 'is_quote_status': False, 'retweet_count': 1, 'favorite_count': 2, 'favorited': False, 'retweeted': False, 'possibly_sensitive': False, 'possibly_sensitive_appealable': False, 'lang': 'en'}\n"
     ]
    }
   ],
   "source": [
    "def print_documents(cursor):\n",
    "    for document in cursor:\n",
    "        print(document)\n",
    "        # print(document[\"user\"][\"screen_name\"])\n",
    "        # print(document[\"id\"])\n",
    "        # print(document[\"text\"])\n",
    "\n",
    "# store.collection.aggregate([\"$match\": {\"$in\": [\"WSJ\"]}])\n",
    "data = store.collection.find({\"user.screen_name\": {\"$in\": [\"WSJ\", \"business\"]}})\n",
    "print_documents(data)\n"
   ]
  },
  {
   "cell_type": "code",
   "execution_count": 128,
   "metadata": {},
   "outputs": [
    {
     "name": "stdout",
     "output_type": "stream",
     "text": [
      "business\n",
      "11\n",
      "celtics\n",
      "2\n",
      "FoodNetwork\n",
      "1\n",
      "Forbes\n",
      "5\n",
      "FoxNews\n",
      "5\n",
      "NASA\n",
      "1\n",
      "thepennyhoarder\n",
      "1\n",
      "WSJ\n",
      "4\n"
     ]
    }
   ],
   "source": [
    "users = [\"WSJ\", \"business\", \"NASA\"]\n",
    "n_tweets = 1000\n",
    "n_user_tweets = 1000\n",
    "num = 2\n",
    "latest = False\n",
    "pipeline = [\n",
    "    # Filter only requested users\n",
    "    # {\"$match\": {\"user.screen_name\": {\"$in\": users}}},\n",
    "    # Group tweets by user\n",
    "    {\n",
    "        \"$group\": {\n",
    "            \"_id\": \"$user.screen_name\",\n",
    "            \"docs\": {\"$push\": \"$$ROOT\"}\n",
    "            },\n",
    "    },\n",
    "]\n",
    "\n",
    "data = store.collection.aggregate(pipeline)\n",
    "# print_documents(data)\n",
    "\n",
    "# Order alphabetically by name (Mongo doesn't return in specific order)\n",
    "data = sorted(data, key=lambda x: x[\"_id\"].lower())\n",
    "\n",
    "tweets_count = 0\n",
    "for group in data:\n",
    "    if tweets_count >= n_tweets:\n",
    "        break\n",
    "\n",
    "    tweets = group[\"docs\"]\n",
    "    print(group[\"_id\"])\n",
    "\n",
    "    if len(tweets) > n_tweets - tweets_count:\n",
    "        tweets = tweets[: n_tweets - tweets_count]\n",
    "\n",
    "    if n_user_tweets:\n",
    "        tweets = tweets[:n_user_tweets]\n",
    "        # print(group[\"docs\"])\n",
    "        # print(len(group[\"docs\"]))\n",
    "        print(len(tweets))\n",
    "\n",
    "    tweets_count += len(tweets)"
   ]
  },
  {
   "cell_type": "code",
   "execution_count": 88,
   "metadata": {},
   "outputs": [
    {
     "name": "stdout",
     "output_type": "stream",
     "text": [
      "1 2\n",
      "2 1\n"
     ]
    }
   ],
   "source": [
    "x = 1\n",
    "y = 2\n",
    "print(x,y)\n",
    "x, y = y, x\n",
    "\n",
    "print(x,y)"
   ]
  }
 ],
 "metadata": {
  "kernelspec": {
   "display_name": "Python 3.8.12 ('.venv': poetry)",
   "language": "python",
   "name": "python3"
  },
  "language_info": {
   "codemirror_mode": {
    "name": "ipython",
    "version": 3
   },
   "file_extension": ".py",
   "mimetype": "text/x-python",
   "name": "python",
   "nbconvert_exporter": "python",
   "pygments_lexer": "ipython3",
   "version": "3.8.12"
  },
  "orig_nbformat": 4,
  "vscode": {
   "interpreter": {
    "hash": "2be0c5224b2fc5679877ab994835d32e5e61031a6913e0f9d088633754b14faa"
   }
  }
 },
 "nbformat": 4,
 "nbformat_minor": 2
}
