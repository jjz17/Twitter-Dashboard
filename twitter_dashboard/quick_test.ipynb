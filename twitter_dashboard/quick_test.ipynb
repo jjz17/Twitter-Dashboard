{
 "cells": [
  {
   "cell_type": "code",
   "execution_count": 1,
   "metadata": {},
   "outputs": [],
   "source": [
    "from personal_twitter_data import TweetLoader\n",
    "from mongo_data import MongoTweetStore\n",
    "import pymongo"
   ]
  },
  {
   "cell_type": "code",
   "execution_count": 21,
   "metadata": {},
   "outputs": [],
   "source": [
    "loader = TweetLoader()\n",
    "loader.extract_tweets(count=10)"
   ]
  },
  {
   "cell_type": "code",
   "execution_count": 22,
   "metadata": {},
   "outputs": [
    {
     "data": {
      "text/plain": [
       "10"
      ]
     },
     "execution_count": 22,
     "metadata": {},
     "output_type": "execute_result"
    }
   ],
   "source": [
    "len(loader.get_loaded_tweets_as_json())"
   ]
  },
  {
   "cell_type": "code",
   "execution_count": 23,
   "metadata": {},
   "outputs": [
    {
     "name": "stdout",
     "output_type": "stream",
     "text": [
      "Bloomberg\n",
      "Forbes\n",
      "Bloomberg\n",
      "Fox News\n",
      "ESPN\n",
      "Boston Celtics\n",
      "Forbes\n",
      "The Wall Street Journal\n",
      "Fox News\n",
      "Food Network\n"
     ]
    }
   ],
   "source": [
    "for tweet in loader.tweets:\n",
    "    print(tweet.author.name)\n",
    "    # print(tweet._json)"
   ]
  },
  {
   "cell_type": "code",
   "execution_count": 2,
   "metadata": {},
   "outputs": [],
   "source": [
    "store = MongoTweetStore(\"twitter_dashboard_db\", \"home_timeline\")"
   ]
  },
  {
   "cell_type": "code",
   "execution_count": 25,
   "metadata": {},
   "outputs": [
    {
     "data": {
      "text/plain": [
       "'tweet_id'"
      ]
     },
     "execution_count": 25,
     "metadata": {},
     "output_type": "execute_result"
    }
   ],
   "source": [
    "store.collection.create_index([(\"id\", pymongo.ASCENDING)], name=\"tweet_id\", unique=True, default_language=\"english\")"
   ]
  },
  {
   "cell_type": "code",
   "execution_count": 26,
   "metadata": {},
   "outputs": [
    {
     "name": "stdout",
     "output_type": "stream",
     "text": [
      "1. FoodNetwork\n",
      "2. WSJ\n",
      "3. FoxNews\n",
      "4. Forbes\n",
      "5. celtics\n",
      "6. espn\n",
      "7. FoxNews\n",
      "8. Forbes\n",
      "9. business\n",
      "10. business\n"
     ]
    }
   ],
   "source": [
    "store.save_tweets_to_db(loader.tweets)"
   ]
  },
  {
   "cell_type": "code",
   "execution_count": 3,
   "metadata": {},
   "outputs": [
    {
     "data": {
      "text/plain": [
       "30"
      ]
     },
     "execution_count": 3,
     "metadata": {},
     "output_type": "execute_result"
    }
   ],
   "source": [
    "# data = store.load_data()\n",
    "data = store.load_flat_data()\n",
    "len(data)"
   ]
  },
  {
   "cell_type": "code",
   "execution_count": 28,
   "metadata": {},
   "outputs": [
    {
     "data": {
      "text/plain": [
       "dict_keys(['_id', 'created_at', 'id', 'id_str', 'text', 'truncated', 'entities', 'extended_entities', 'source', 'in_reply_to_status_id', 'in_reply_to_status_id_str', 'in_reply_to_user_id', 'in_reply_to_user_id_str', 'in_reply_to_screen_name', 'user', 'geo', 'coordinates', 'place', 'contributors', 'is_quote_status', 'retweet_count', 'favorite_count', 'favorited', 'retweeted', 'possibly_sensitive', 'possibly_sensitive_appealable', 'lang'])"
      ]
     },
     "execution_count": 28,
     "metadata": {},
     "output_type": "execute_result"
    }
   ],
   "source": [
    "data[0].keys()"
   ]
  },
  {
   "cell_type": "code",
   "execution_count": 7,
   "metadata": {},
   "outputs": [
    {
     "name": "stdout",
     "output_type": "stream",
     "text": [
      "business\n",
      "9\n",
      "Forbes\n",
      "7\n"
     ]
    }
   ],
   "source": [
    "data = store.load_data_test(users=[\"business\", \"Forbes\"], n_tweets=100, n_user_tweets=100)"
   ]
  },
  {
   "cell_type": "code",
   "execution_count": 5,
   "metadata": {},
   "outputs": [
    {
     "name": "stdout",
     "output_type": "stream",
     "text": [
      "business\n",
      "9\n",
      "Forbes\n",
      "7\n"
     ]
    },
    {
     "data": {
      "text/plain": [
       "['Mon Mar 06 18:21:06 +0000 2023',\n",
       " 'Mon Mar 06 18:20:05 +0000 2023',\n",
       " 'Mon Mar 06 18:00:06 +0000 2023',\n",
       " 'Mon Mar 06 17:55:49 +0000 2023',\n",
       " 'Mon Mar 06 17:39:08 +0000 2023',\n",
       " 'Mon Mar 06 17:38:36 +0000 2023',\n",
       " 'Mon Mar 06 17:38:03 +0000 2023',\n",
       " 'Mon Mar 06 17:34:03 +0000 2023',\n",
       " 'Mon Mar 06 17:31:07 +0000 2023']"
      ]
     },
     "execution_count": 5,
     "metadata": {},
     "output_type": "execute_result"
    }
   ],
   "source": [
    "from mongo_data import MongoTweetStore\n",
    "store = MongoTweetStore(\"twitter_dashboard_db\", \"home_timeline\")\n",
    "\n",
    "# Data is a list of dicts (user -> list(tweets))\n",
    "u = [\"business\", \"Forbes\"]\n",
    "data = store.load_data_test(users=u, n_tweets=200, n_user_tweets=10, latest=True)\n",
    "[t[\"created_at\"] for t in data[\"business\"]]\n",
    "\n",
    "# d = []\n",
    "# for group in data:\n",
    "#     d.append(group)\n",
    "#     # print(type(group))\n",
    "#     print(group.keys())"
   ]
  },
  {
   "cell_type": "code",
   "execution_count": 9,
   "metadata": {},
   "outputs": [
    {
     "ename": "IndexError",
     "evalue": "list index out of range",
     "output_type": "error",
     "traceback": [
      "\u001b[0;31m---------------------------------------------------------------------------\u001b[0m",
      "\u001b[0;31mIndexError\u001b[0m                                Traceback (most recent call last)",
      "Cell \u001b[0;32mIn [9], line 1\u001b[0m\n\u001b[0;32m----> 1\u001b[0m \u001b[39mtype\u001b[39m(d[\u001b[39m0\u001b[39;49m][\u001b[39m\"\u001b[39m\u001b[39mdocs\u001b[39m\u001b[39m\"\u001b[39m][\u001b[39m0\u001b[39m])\n",
      "\u001b[0;31mIndexError\u001b[0m: list index out of range"
     ]
    }
   ],
   "source": [
    "type(d[0][\"docs\"][0])"
   ]
  },
  {
   "cell_type": "code",
   "execution_count": null,
   "metadata": {},
   "outputs": [],
   "source": [
    "data = store.load_data(latest=True)\n",
    "\n",
    "for user_data in data:\n",
    "    print(user_data[\"user\"])\n",
    "    print(len(user_data[\"tweets\"]))\n",
    "    for tweet in user_data[\"tweets\"]:\n",
    "        print(tweet[\"created_at\"])"
   ]
  },
  {
   "cell_type": "code",
   "execution_count": null,
   "metadata": {},
   "outputs": [],
   "source": [
    "from pprint import pprint\n",
    "\n",
    "def print_documents(cursor):\n",
    "    for document in cursor:\n",
    "        pprint(document)\n",
    "        # print(document[\"user\"][\"screen_name\"])\n",
    "        # print(document[\"id\"])\n",
    "        # print(document[\"text\"])\n",
    "\n",
    "# store.collection.aggregate([\"$match\": {\"$in\": [\"WSJ\"]}])\n",
    "data = store.collection.find({\"user.screen_name\": {\"$in\": [\"WSJ\", \"business\"]}})\n",
    "print_documents(data)\n"
   ]
  },
  {
   "cell_type": "code",
   "execution_count": null,
   "metadata": {},
   "outputs": [],
   "source": [
    "users = [\"WSJ\", \"business\", \"NASA\"]\n",
    "n_tweets = 1000\n",
    "n_user_tweets = 1000\n",
    "num = 2\n",
    "latest = False\n",
    "pipeline = [\n",
    "    # Filter only requested users\n",
    "    # {\"$match\": {\"user.screen_name\": {\"$in\": users}}},\n",
    "    # Group tweets by user\n",
    "    {\n",
    "        \"$group\": {\n",
    "            \"_id\": \"$user.screen_name\",\n",
    "            \"docs\": {\"$push\": \"$$ROOT\"}\n",
    "            },\n",
    "    },\n",
    "]\n",
    "\n",
    "data = store.collection.aggregate(pipeline)\n",
    "# print_documents(data)\n",
    "\n",
    "# Order alphabetically by name (Mongo doesn't return in specific order)\n",
    "data = sorted(data, key=lambda x: x[\"_id\"].lower())\n",
    "\n",
    "tweets_count = 0\n",
    "for group in data:\n",
    "    if tweets_count >= n_tweets:\n",
    "        break\n",
    "\n",
    "    tweets = group[\"docs\"]\n",
    "    print(group[\"_id\"])\n",
    "\n",
    "    if len(tweets) > n_tweets - tweets_count:\n",
    "        tweets = tweets[: n_tweets - tweets_count]\n",
    "\n",
    "    if n_user_tweets:\n",
    "        tweets = tweets[:n_user_tweets]\n",
    "        # print(group[\"docs\"])\n",
    "        # print(len(group[\"docs\"]))\n",
    "        print(len(tweets))\n",
    "\n",
    "    tweets_count += len(tweets)"
   ]
  }
 ],
 "metadata": {
  "kernelspec": {
   "display_name": "Python 3.8.12 ('.venv': poetry)",
   "language": "python",
   "name": "python3"
  },
  "language_info": {
   "codemirror_mode": {
    "name": "ipython",
    "version": 3
   },
   "file_extension": ".py",
   "mimetype": "text/x-python",
   "name": "python",
   "nbconvert_exporter": "python",
   "pygments_lexer": "ipython3",
   "version": "3.8.12"
  },
  "orig_nbformat": 4,
  "vscode": {
   "interpreter": {
    "hash": "2be0c5224b2fc5679877ab994835d32e5e61031a6913e0f9d088633754b14faa"
   }
  }
 },
 "nbformat": 4,
 "nbformat_minor": 2
}
